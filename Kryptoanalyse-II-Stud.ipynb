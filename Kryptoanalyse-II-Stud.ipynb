{
 "cells": [
  {
   "cell_type": "markdown",
   "metadata": {
    "hideCode": false,
    "hidePrompt": false
   },
   "source": [
    "#### ![Kopf-1](images/Kopf-1.png)\n",
    "![Pyth](images/Pyth-Wire.png)\n"
   ]
  },
  {
   "cell_type": "markdown",
   "metadata": {
    "hideCode": false,
    "hidePrompt": false
   },
   "source": [
    "# Lab: Kryptoanalyse-II"
   ]
  },
  {
   "cell_type": "markdown",
   "metadata": {
    "hideCode": false,
    "hidePrompt": false
   },
   "source": [
    "### In diesem Notebook stellen wir Ihnen die programmtechnische Umsetzung zur Anwendung von Hashfunktionen vor. In einer Brute-Force-Attacke auf eine Zip-Datei, die mit einem Passwort geschützt ist, zeigen wir eine einfache Möglichkeit einer Passwortattacke. \n",
    "\n",
    "## Voraussetzungen\n",
    "* ### Python-Scriptvorschlaege\n",
    "* ### Python (AnacondaFramework, Jupyter-Notebook)\n",
    "\n"
   ]
  },
  {
   "cell_type": "markdown",
   "metadata": {},
   "source": [
    "### Was sind Hash's in Tabellen bzw. von Dateien?\n",
    "#### Hash‘s sind einfach zerstückelte, zerhackte bzw. auch verstreute Daten, die über eine Einwegfunktion einfach berechenbar aber schwer zurückrechenbar sind.\n",
    "#### Sie werden nach bestimmten Algorithmen und Anwendungen spezifiziert.\n",
    "#### Datenbanken, Prüfsummen / Fingerprints, Kryptographie\n",
    "* z.B. MD5, SHA-1, SHA-2–Familie mit 224,256,384,512 Bit Hash-Wert, SHA-3\n",
    "\n",
    "#### Passwort Hash‘s z.B. \n",
    "* LM-Hash (LAN-Manager von Microsoft, 128 Bit Länge)\n",
    "* PBKDF2 (WPA-2, WinZip, Linux, MAC, TrueCrypt...)\n",
    "* Bcrypt, Scrypt\n",
    "\n",
    "#### Hash‘s dienen weiter zum: \n",
    "* Suchen und Identifizieren von Dateien\n",
    "* Session-ID‘s von Verbindungen, WEB-Seiten\n",
    "* Integrität, Signaturen\n"
   ]
  },
  {
   "cell_type": "markdown",
   "metadata": {},
   "source": [
    "### Aufgabe 1\n",
    "#### Nachfolgendes Script listet einzelne mögliche und garantiert lauffähige (auf genutztem System) HASH-Algorithmen auf, die in der Standard-Bibliothek von Python programmiert sind. Das Script zeigt ausserdem eine einfache Möglichkeit ein Passwort zu hashen.\n",
    "#### In diesem Script verwenden wir die Funktionen : \"enumerate()\" und \"dir()\".\n",
    "Die Funktion \"enumerate()\" ermöglicht die Einträge in einer Liste bzw. Tupels zu nummerieren. Anwendung z.B. in for-Schleifen.\n",
    "\n",
    "Die Funktion \"dir()\" gibt ohne ein angegebenes Argument, eine Liste mit den Namen aller in der aktuellen Python-Sitzung definierten Objekt-Namen (als Strings) zurück.\n",
    "Wird als Argument z.B. hashlib angegeben, so werden die Attribute und Methoden des jeweiligen Objekts in Form einer String-Liste ausgegeben.\n",
    "#### Untersuchen Sie die Abhängikeit der Hashlänge von der Eingabe Ihres Passwortes bei gegebenen Hash-Mechanismus (MD5)! \n",
    "* Variieren Sie Ihre Passwort mit unterschiedlichen Längen! \n",
    "* Welche Hashlänge/n stellen Sie fest? \n",
    "\n",
    "* Welche Hash-Mechanismen sind in der Biliothek vorhanden bzw. welche sind lauffähig?\n",
    "* ....................."
   ]
  },
  {
   "cell_type": "code",
   "execution_count": 2,
   "metadata": {},
   "outputs": [
    {
     "name": "stdout",
     "output_type": "stream",
     "text": [
      "0 __all__\n",
      "1 __block_openssl_constructor\n",
      "2 __builtin_constructor_cache\n",
      "3 __builtins__\n",
      "4 __cached__\n",
      "5 __doc__\n",
      "6 __file__\n",
      "7 __get_builtin_constructor\n",
      "8 __loader__\n",
      "9 __name__\n",
      "10 __package__\n",
      "11 __spec__\n",
      "12 _hashlib\n",
      "13 algorithms_available\n",
      "14 algorithms_guaranteed\n",
      "15 blake2b\n",
      "16 blake2s\n",
      "17 md5\n",
      "18 new\n",
      "19 pbkdf2_hmac\n",
      "20 scrypt\n",
      "21 sha1\n",
      "22 sha224\n",
      "23 sha256\n",
      "24 sha384\n",
      "25 sha3_224\n",
      "26 sha3_256\n",
      "27 sha3_384\n",
      "28 sha3_512\n",
      "29 sha512\n",
      "30 shake_128\n",
      "31 shake_256\n",
      "\n",
      "Verfügbare Algorithmen: \n",
      "  {'ripemd160', 'md5', 'blake2b', 'blake2s', 'sha3_224', 'sha3_256', 'sha512_256', 'sha384', 'shake_128', 'sha512_224', 'whirlpool', 'sha512', 'sha1', 'md5-sha1', 'sha3_512', 'sha224', 'shake_256', 'mdc2', 'md4', 'sm3', 'sha3_384', 'sha256'}\n",
      "\n",
      "Verfügbare lauffähige Algorithmen: \n",
      "  {'sha512', 'sha1', 'sha3_256', 'sha3_512', 'sha224', 'sha384', 'md5', 'shake_128', 'blake2b', 'blake2s', 'sha3_384', 'sha3_224', 'shake_256', 'sha256'}\n",
      "Gib bitte ein Passwort ein: kekwefjlgjr glag jalögrejg laegjaerlgkrejg\n",
      "\n",
      " Gehashdes MD5-PW =  24dcaacd26efb4ea9fb2c393ae052e20\n"
     ]
    }
   ],
   "source": [
    "import hashlib\n",
    "\n",
    "for i , out in enumerate (dir(hashlib)):\n",
    "    print (i , out)                           #Allgorithmen der Hashlib\n",
    "    \n",
    "print (\"\\nVerfügbare Algorithmen: \\n \", hashlib.algorithms_available)\n",
    "\n",
    "print (\"\\nVerfügbare lauffähige Algorithmen: \\n \", hashlib.algorithms_guaranteed)\n",
    "\n",
    "# Einfaches Passwort- oder Text-Hashing\n",
    "\n",
    "Mein_PW = input (\"Gib bitte ein Passwort ein: \")\n",
    "Mein_Hash = hashlib.md5(Mein_PW.encode())\n",
    "print (\"\\n Gehashdes MD5-PW = \", Mein_Hash.hexdigest())"
   ]
  },
  {
   "cell_type": "markdown",
   "metadata": {},
   "source": [
    "### Aufgabe 2\n",
    "#### Nachfogendes Script zeigt die Anwendung unterschiedlicher Hash-Mechanismen und deren Längenunterschiede.  Entsprechend der auftretenden Fehlermeldung und der Ausgabe im vorherigen Script können Sie das Script berichtigen.  Modifizieren Sie Ihr Passwort minimal (um ein Zeichen), welche Veränderungen stellen Sie im Hashwert fest? "
   ]
  },
  {
   "cell_type": "code",
   "execution_count": 6,
   "metadata": {
    "hideOutput": true
   },
   "outputs": [
    {
     "name": "stdout",
     "output_type": "stream",
     "text": [
      "Gib bitte ein Passwort ein: Hallo321\n",
      "Gehashdes PW nach md5  =  d9a1bdcf240265f987920483e9a144ab\n",
      "Gehashdes PW nach md5  hat =  128 Bit Länge \n",
      "\n",
      "Gehashdes PW nach sha1  =  c8d48e070f9801a17e50985c66017430d1df13ee\n",
      "Gehashdes PW nach sha1  hat =  160 Bit Länge \n",
      "\n",
      "Gehashdes PW nach sha256  =  b223bfab236e6f54c42859b990d9f0a2513be47c8b55b12306c84228d89d457e\n",
      "Gehashdes PW nach sha256  hat =  256 Bit Länge \n",
      "\n",
      "Gehashdes PW nach sha384  =  0159e77aa685e7a1b64beffc67a484821b49ae64773621398bf02d65640ab20d57eaca8d7b5d763527361bf27ac7ba0a\n",
      "Gehashdes PW nach sha384  hat =  384 Bit Länge \n",
      "\n",
      "Gehashdes PW nach sha512  =  dc9394ad3e7e700fd3d8232b9e502a18e1ddcb0fe22b01e00eb218e0b2ffa0500eb8054a521efac34aa36e889a24d374be5d3787a951c2027738da2e76670d18\n",
      "Gehashdes PW nach sha512  hat =  512 Bit Länge \n",
      "\n"
     ]
    }
   ],
   "source": [
    "import hashlib\n",
    "\n",
    "Mein_PW = input (\"Gib bitte ein Passwort ein: \")\n",
    "\n",
    "x=[\"md5\", \"sha1\", \"sha256\", \"sha384\", \"sha512\"]  #Beispiele von Hash-Funktionen, änder- und erweiterbar\n",
    "\n",
    "for i in x:\n",
    "    Mein_Hash = hashlib.new(i)\n",
    "    Mein_Hash.update(Mein_PW.encode())\n",
    "    print (\"Gehashdes PW nach\" , i, \" = \", Mein_Hash.hexdigest())\n",
    "    print (\"Gehashdes PW nach\" , i,\" hat = \", Mein_Hash.digest_size * 8 , \"Bit Länge \\n\")\n",
    "   "
   ]
  },
  {
   "cell_type": "markdown",
   "metadata": {},
   "source": [
    "#### Modifizieren Sie folgendes Script so, dass Sie für die Datei krypt.zip den Hashwert bilden können und somit eine Integritätsprüfung erfolgen kann.\n",
    "* Speichern Sie den Hashwert in geeigneter Form, so dass Sie diesen später vergleichen können!"
   ]
  },
  {
   "cell_type": "code",
   "execution_count": 2,
   "metadata": {},
   "outputs": [
    {
     "name": "stdout",
     "output_type": "stream",
     "text": [
      "Datei bitte:krypt.zip.zip\n",
      "Hashtype bitte: \n",
      "md5\n",
      "krypt.zip.zip nach md5 : fd83f0a089df4890ad06452bf2077b10\n"
     ]
    }
   ],
   "source": [
    "import hashlib\n",
    "\n",
    "\n",
    "def file_hash(My_file, ha_type):\n",
    "    ha= hashlib.new(ha_type)\n",
    "\n",
    "    with open(My_file, 'rb') as file:  #File wird binär lesbar geöffnet\n",
    "        while True:\n",
    "            \n",
    "            buffer = file.read(ha.block_size) #Blockweises Datenlesen\n",
    "            if not buffer:\n",
    "                file.close()\n",
    "                break\n",
    "            ha.update(buffer)\n",
    "    file.close()\n",
    "    return ha.hexdigest()                     #HexwertRückgabe'\n",
    "\n",
    "My_file = input(\"Datei bitte:\")\n",
    "ha_type = input (\"Hashtype bitte: \\n\")\n",
    "print (My_file, \"nach\",ha_type, \":\",file_hash(My_file,ha_type ))\n",
    "#krypt.zip nach md5 : dd16d55a5b45560e0d7abfa8dbc5adf4\n",
    "#krypt.zip.zip nach md5 : fd83f0a089df4890ad06452bf2077b10 [nur ein Punkt durch Ausrufezeichen verändert]\n",
    "#File1.pdf nach sha1 : 96274933937d99c9f62e2ba414ea763477f638eb\n",
    "#File2.pdf nach sha1 : 96274933937d99c9f62e2ba414ea763477f638eb\n",
    "\n",
    "#File1.pdf nach md5 : 5f932330b9e813bae088335f391440b9\n",
    "#File2.pdf nach md5 : a3bc0635354214530dbc90a650f91384"
   ]
  },
  {
   "cell_type": "markdown",
   "metadata": {
    "hideCode": false,
    "hidePrompt": false
   },
   "source": [
    "### Allgemeine Passwortattackierungen:\n",
    "#### Phishing\n",
    "* E-Mail mit einem Link zur Anmeldung mit den eigenen User-Daten\n",
    "* Link führt zu einer gefälschten Website, wo Angreifer User-Daten speichert\n",
    "\n",
    "#### Malware: Schadsoftware auf dem eigenen Rechner\n",
    "* sammelt Tastatureingaben\n",
    "* besuchte Websites, Bildschirmhardcopys werden an Attacker gesendet\n",
    "\n",
    "#### Social Engineering\n",
    "* direkte Interaktion mit dem Benutzer um vertrauliche Daten zu erfahren\n",
    "\n",
    "#### Wörterbuch-Angriffe\n",
    "* Angreifer benutzt Wortlisten, die häufig verwendete User / Kennwort / bzw. Kombinationen haben\n",
    "* ebenso Hash-Tabellen in denen Hash-werte von Passwörtern stehen\n",
    "\n",
    "#### Brute-Force-Angriffe\n",
    "* Angreifer probiert möglichen Zeichenkombinationen\n",
    "* Identische Kennwörter sind ein Sicherheitsrisiko\n",
    "* identisches Passwort erlaubt Zugriff auf verschiedenen Dienste, da Username (email) meist gleich ist\n",
    "* identisches Passwort generiert gleichen Hash!"
   ]
  },
  {
   "cell_type": "markdown",
   "metadata": {},
   "source": [
    "### Algemeiner Zeichenvorrat:\n",
    "* Zahlen (10 verschiedene: 0-9)\n",
    "* Buchstaben (52 verschiedene: A-Z und a-z)\n",
    "* Sonderzeichen (32 verschiedene).\n",
    "\n",
    "### Anzahl möglicher Passwortkombinationen:  \n",
    "##  $$\\color{Red}{x~=~Zeichenzahl^{Kennwortlaenge}}$$"
   ]
  },
  {
   "cell_type": "markdown",
   "metadata": {},
   "source": [
    "### Aufgabe 3\n",
    "#### Programmieren Sie für folgende Annahme: \n",
    "### $$ \\color{Red}{2\\cdot 10^{9}~Keys~ /~s}$$\n",
    "die möglichen Entschlüsselungszeiten (s, Tage oder Jahre) für folgende Passwortzusammensetzung:\n",
    "* Zeit_1 : 2 Kleinuchstaben, 3 Sonderzeichen, 2 Ziffern\n",
    "* Zeit_2 : 4 Kleinbuchstaben\n",
    "* Zeit_3 : 2 Großbuchstaben, 3 Kleinbuchstaben, 3 Sonderzeichen\n",
    "\n",
    "#### Ihre Berechnungen in nachfolgender Zelle!"
   ]
  },
  {
   "cell_type": "code",
   "execution_count": 16,
   "metadata": {
    "hideCode": false,
    "hidePrompt": false
   },
   "outputs": [
    {
     "name": "stdout",
     "output_type": "stream",
     "text": [
      "Zeit_1: 3361.494409216 Sekunden!\n",
      "Zeit_2: 0.000228488 Sekunden!\n",
      "Zeit_3: 344.27207098368 Stunden!\n"
     ]
    }
   ],
   "source": [
    "# Ihre Berechnungen max. 4 Zeilen\n",
    "geschwindigkeit = 2*10**9\n",
    "print(\"Zeit_1:\", ((10+26+32)**7)/geschwindigkeit, \"Sekunden!\")\n",
    "print(\"Zeit_2:\", ((26)**4)/geschwindigkeit, \"Sekunden!\")\n",
    "print(\"Zeit_3:\", (((52+32)**8)/geschwindigkeit)/60/60, \"Stunden!\")\n"
   ]
  },
  {
   "cell_type": "markdown",
   "metadata": {
    "hideCode": false,
    "hidePrompt": false
   },
   "source": [
    "\n",
    "### Aufgabe 4\n",
    "#### Modifizieren Sie den Code entsprechend so, dass Sie folgende Datei entpacken können.\n",
    "#### Das nachfolgende Script versucht für eine zip-Datei (krypt.zip), welche Passwort geschützt ist, diese zu entpacken. Dazu erfolgt im Programm die Generierung aller möglichen Passwortkombinationen .\n",
    "#### Hinweis: Das Passwort ist, (aus Zeitgründen) 5-Stellig und besteht aus Kleinbuchstaben. Wählen Sie einen zeitsparenden Zeichen-Bereich."
   ]
  },
  {
   "cell_type": "code",
   "execution_count": 1,
   "metadata": {},
   "outputs": [
    {
     "name": "stdout",
     "output_type": "stream",
     "text": [
      "Bitte Datei und Pfad eingeben: krypt.zip\n",
      "Bitte minimale PW-Länge:5\n",
      "Bitte bis maximale PW-Länge:6\n",
      "\n",
      "Das Passwort ist: abcdy\n",
      "\n",
      "Time : 0.0 min + 1.884232521057129 s \n",
      "Ende\n"
     ]
    }
   ],
   "source": [
    "import zipfile\n",
    "import itertools\n",
    "import string\n",
    "from time import time\n",
    "   \n",
    "\n",
    "\n",
    "def ziper_crack(min_range, max_range,zip_my):\n",
    "    i=0\n",
    "    j=0\n",
    "    for i in range(min_range, max_range): \n",
    "        for j in map(''.join, itertools.product(myPW_range, repeat=i)):\n",
    "        \n",
    "            pw=str.encode(j)\n",
    "            try:\n",
    "                zip_my.extractall(pwd=pw)\n",
    "                print(\"\\nDas Passwort ist:\",j)\n",
    "                zip_my.close()\n",
    "                return()\n",
    "            except:\n",
    "                pass\n",
    "\n",
    "\n",
    "zip_my = zipfile.ZipFile(str(input (\"Bitte Datei und Pfad eingeben: \")))\n",
    "myPW_range = string.ascii_lowercase         #ascii_lowercase + string.hexdigits #+ string.digits + string.punctuation        #alle\n",
    "min_range = int(input(\"Bitte minimale PW-Länge:\"))\n",
    "max_range = int(input(\"Bitte bis maximale PW-Länge:\"))\n",
    "timeStart = time()\n",
    "ziper_crack(min_range,max_range,zip_my)\n",
    "z = (time()-timeStart)\n",
    "print (\"\\nTime : {} min + {} s \" .format(z//60, z % 60) )\n",
    "print (\"Ende\")\n",
    "\n",
    "#Bitte minimale PW-Länge:5\n",
    "#Bitte bis maximale PW-Länge:6\n",
    "#Das Passwort ist: abcdy\n",
    "#Time : 0.0 min + 1.884232521057129 s"
   ]
  },
  {
   "cell_type": "markdown",
   "metadata": {},
   "source": [
    "#### Wie ist der Ihalt des Files?\n",
    "\n",
    "#### Zum Neuverpacken benutzen Sie bitte 7zip mit ZipCrypto Passwortverschlüsselung!"
   ]
  },
  {
   "cell_type": "markdown",
   "metadata": {},
   "source": [
    "#### Nach dem erfolgreichen Öffnen der Datei haben Sie nun die Möglichkeit, diese zu verändern. Verändern Sie den Text etwas, Danach können Sie die Datei neuverpacken und vergleichen Sie den Hash-Wert mit der orginalen Datei . Ist der orginale Hash-Wert nicht bekannt, ist die Integrität der Datei zweifelhaft. "
   ]
  },
  {
   "cell_type": "markdown",
   "metadata": {},
   "source": [
    "### Aufgabe 5\n",
    "#### Beurteilen Sie die Intergrität der beiden Files  \"File1/2.pdf\". Benutzen Sie obriges Script mit SHA1. Was können Sie darüber sagen?\n",
    "#### Öffnen Sie die Files um Ihre Annahme, welche Aussagen können Sie machen?"
   ]
  },
  {
   "cell_type": "code",
   "execution_count": null,
   "metadata": {},
   "outputs": [],
   "source": [
    "#File1.pdf nach sha1 : 96274933937d99c9f62e2ba414ea763477f638eb\n",
    "#File2.pdf nach sha1 : 96274933937d99c9f62e2ba414ea763477f638eb\n",
    "\n",
    "print(\"Beide Hashwerte Identisch, es handelt sich vermeintlich um dieselbe Datei.\")\n",
    "# Schaut man sich die Datein im Editor an stellt man fest, dass der Header anders ist. --> Hashverfahren fehlerhaft\n",
    "\n",
    "#File1.pdf nach md5 : 5f932330b9e813bae088335f391440b9\n",
    "#File2.pdf nach md5 : a3bc0635354214530dbc90a650f91384"
   ]
  }
 ],
 "metadata": {
  "hide_code_all_hidden": false,
  "kernelspec": {
   "display_name": "Python 3",
   "language": "python",
   "name": "python3"
  },
  "language_info": {
   "codemirror_mode": {
    "name": "ipython",
    "version": 3
   },
   "file_extension": ".py",
   "mimetype": "text/x-python",
   "name": "python",
   "nbconvert_exporter": "python",
   "pygments_lexer": "ipython3",
   "version": "3.8.8"
  }
 },
 "nbformat": 4,
 "nbformat_minor": 1
}
