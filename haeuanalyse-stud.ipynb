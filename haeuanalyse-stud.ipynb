{
 "cells": [
  {
   "cell_type": "markdown",
   "metadata": {
    "hideCode": false,
    "hidePrompt": false
   },
   "source": [
    "#### ![Kopf-1](images/Kopf-1.png)\n",
    "![Pyth](images/Pyth-Wire.png)\n"
   ]
  },
  {
   "cell_type": "markdown",
   "metadata": {
    "hideCode": false,
    "hidePrompt": false
   },
   "source": [
    "# Lab: Kryptoanalyse 1"
   ]
  },
  {
   "cell_type": "markdown",
   "metadata": {
    "hideCode": false,
    "hidePrompt": false
   },
   "source": [
    "## In diesem Notebook stellen wir Ihnen die programmtechnische Umsetzung einiger Kryptoanalyse-Methoden vor.\n",
    "## Using Python\n",
    "\n",
    "\n",
    "## Voraussetzungen\n",
    "* ### Python-Scriptvorschlaege\n",
    "* ### Python (AnacondaFramework, Jupyter-Notebook)\n",
    "\n"
   ]
  },
  {
   "cell_type": "markdown",
   "metadata": {
    "hideCode": false,
    "hidePrompt": false
   },
   "source": [
    "### Klassifikation von Angriffen gegen Kryptosysteme\n",
    "#### Die Erfolgsaussichten eines Angriffs gegen ein klassisches Kryptosystem sind abhängig davon, welche Bedingungen der Angreifer hat. Die Fähigkeiten eines Angreifers sollten nicht unterschätzt werden, ebenso sind wir als User auch unvorsichtig. Das nach \"Kerckhoff\" benannte Prinzip besagt auch, dass man den Kryptoanalytiker nicht unterschätzen sollte. Das besagt eben auch, dass das Kryptosystem sprich der Algorithmus bekannt sein sollte bzw. ist."
   ]
  },
  {
   "cell_type": "markdown",
   "metadata": {
    "hideCode": false,
    "hidePrompt": false
   },
   "source": [
    "#### Bitte arbeiten Sie alle Codezellen entsprechend einzeln ab! Benutzen Sie das \"Run\" (oben)! "
   ]
  },
  {
   "cell_type": "markdown",
   "metadata": {
    "hideCode": false,
    "hidePrompt": false
   },
   "source": [
    "### Häufigkeitsanalyse\n",
    "#### Unter der Häufigkeitsanalyse versteht man ganz allgemein:\n",
    "#### Der Schlüsselraum ist bekannt und damit ist die Suche nach dem Klartext auf eine bestimmte Menge von Texten beschränkt.  Beispielsweise kann entsprechend auf die verwendete Sprache reflektiert werden, so dass die deutsche, englische oder eine andere Sprache die Analyse vereinfacht.\n",
    "#### Der Angreifer kennt meisst die Sprache der verfassten Texte, so dass mit längeren Texten eine sprachbezogene Häufigkeitsverteilung erkennbar ist, die von der entsprechenden Sprache weitestgehend abhängig ist. \n",
    "#### Nachfolgende Tabelle zeigt Buchstabenhäufigkeitswerte entsprechend der Sprachen.\n",
    "![Häufigkeit](images/Buchst-spra.png)\n",
    "\n",
    "\n",
    "### Aufgabe 1\n",
    "#### Die sprachbezogenen Häufigkeiten sollen hier an Hand unterschiedlicher Texte untersucht werden.\n",
    "#### Laden Sie dazu die folgende Texte, diese wurden aus einem Wiresharkmitschnitt selektiert:\n",
    "\n",
    "* Text1.txt (deu)\n",
    "* Text2.txt (engl)\n",
    "\n",
    "#### und bestimmen Sie die Buchstabenhäufigkeiten in der jewiligen Sprache. Vergleichen Sie die Häufigkeiten entsprechend obiger Tabelle.\n"
   ]
  },
  {
   "cell_type": "code",
   "execution_count": 1,
   "metadata": {
    "hideCode": false,
    "hidePrompt": false
   },
   "outputs": [],
   "source": [
    "%matplotlib inline"
   ]
  },
  {
   "cell_type": "code",
   "execution_count": 8,
   "metadata": {
    "hideCode": false,
    "hidePrompt": false
   },
   "outputs": [
    {
     "name": "stdout",
     "output_type": "stream",
     "text": [
      "Filename bitte:Geheim.txt\n",
      "\n",
      "Häufigkeitsanalyse:\n",
      "\n",
      "Num : 1 a taucht 35 Mal auf!\t 5.279%\n",
      "Num : 2 b taucht 52 Mal auf!\t 7.843%\n",
      "Num : 3 c taucht 34 Mal auf!\t 5.128%\n",
      "Num : 4 d taucht 8 Mal auf!\t 1.207%\n",
      "Num : 5 e taucht 7 Mal auf!\t 1.056%\n",
      "Num : 6 f taucht nicht auf!\t\t 0.000%\n",
      "Num : 7 g taucht 17 Mal auf!\t 2.564%\n",
      "Num : 8 h taucht nicht auf!\t\t 0.000%\n",
      "Num : 9 i taucht 52 Mal auf!\t 7.843%\n",
      "Num : 10 j taucht 16 Mal auf!\t 2.413%\n",
      "Num : 11 k taucht 20 Mal auf!\t 3.017%\n",
      "Num : 12 l taucht 32 Mal auf!\t 4.827%\n",
      "Num : 13 m taucht 78 Mal auf!\t11.765%\n",
      "Num : 14 n taucht 9 Mal auf!\t 1.357%\n",
      "Num : 15 o taucht 7 Mal auf!\t 1.056%\n",
      "Num : 16 p taucht 21 Mal auf!\t 3.167%\n",
      "Num : 17 q taucht 45 Mal auf!\t 6.787%\n",
      "Num : 18 r taucht 1 Mal auf!\t 0.151%\n",
      "Num : 19 s taucht 2 Mal auf!\t 0.302%\n",
      "Num : 20 t taucht 24 Mal auf!\t 3.620%\n",
      "Num : 21 u taucht 35 Mal auf!\t 5.279%\n",
      "Num : 22 v taucht 54 Mal auf!\t 8.145%\n",
      "Num : 23 w taucht 43 Mal auf!\t 6.486%\n",
      "Num : 24 x taucht 15 Mal auf!\t 2.262%\n",
      "Num : 25 y taucht 2 Mal auf!\t 0.302%\n",
      "Num : 26 z taucht 54 Mal auf!\t 8.145%\n",
      "\n",
      "Gesamtzahl der Buchstaben: 663\n",
      "Maximal Haeufigkeit haben Buchstabe/n : [13] mit 78 mal.\n"
     ]
    },
    {
     "data": {
      "image/png": "[encoded data removed]",
      "text/plain": [
       "<Figure size 432x288 with 1 Axes>"
      ]
     },
     "metadata": {
      "needs_background": "light"
     },
     "output_type": "display_data"
    }
   ],
   "source": [
    "import numpy as np\n",
    "import matplotlib.pyplot as plt\n",
    "import string\n",
    "\n",
    "filename = input (\"Filename bitte:\") # unsere Files Klartext und encrypted aus Wireshark\n",
    "infile = open(filename, \"r\")\n",
    "s0 = infile.read()                   # die Datei ist in der Zeichenkette s0 gespeichert\n",
    "s = s0.lower()                       # alle die Grossbuchstaben werden klein geschrieben\n",
    "infile.close()\n",
    "\n",
    "a_ASCII = ord('a')\n",
    "absolute_haeufigkeit = [0] * 26\n",
    "anz_buchstaben = 0\n",
    "\n",
    "for x in s:\n",
    "    if x.isalpha():                 # x ist ein Charakter\n",
    "        absolute_haeufigkeit[ord(x) - a_ASCII] += 1\n",
    "        anz_buchstaben += 1\n",
    "        \n",
    "\n",
    "print(\"\\nHäufigkeitsanalyse:\\n\")\n",
    "num = [0] * 26\n",
    " \n",
    "for i in range(26) :\n",
    "    \n",
    "    if absolute_haeufigkeit[i] == 0:\n",
    "        print(\"Num :\",i+1, chr(a_ASCII + i) + \" taucht nicht auf!\\t\\t\" + \n",
    "              \"{0: >6.3f}\".format(100 * absolute_haeufigkeit[i] / anz_buchstaben) + \"%\")\n",
    "        num [i] = i+1\n",
    "    \n",
    "    else:\n",
    "        print(\"Num :\",i+1,chr(a_ASCII + i) + \" taucht \" + str(absolute_haeufigkeit[i]) + \" Mal auf!\\t\" + \n",
    "              \"{0: >6.3f}\".format(100 * absolute_haeufigkeit[i] / anz_buchstaben) + \"%\")\n",
    "       \n",
    "        num [i] += 1\n",
    "    \n",
    "print(\"\\nGesamtzahl der Buchstaben:\", anz_buchstaben)\n",
    "\n",
    "ma_1 = np.where(absolute_haeufigkeit == np.amax(absolute_haeufigkeit))\n",
    "print (\"Maximal Haeufigkeit haben Buchstabe/n :\",ma_1[0]+1, \"mit\",np.max(absolute_haeufigkeit),\"mal.\")\n",
    "\n",
    "Alpha = string.ascii_lowercase\n",
    "alpha = []\n",
    "\n",
    "# Diagrammausgabe\n",
    "\n",
    "for i in Alpha:\n",
    "    alpha.append(i)\n",
    "    \n",
    "fig, ax = plt.subplots()\n",
    "ax.bar(alpha, absolute_haeufigkeit) # x- und y- Achse\n",
    "\n",
    "plt.xlabel(\"Buchstaben\")\n",
    "plt.ylabel(\"Häufigkeit / Anzahl\")\n",
    "plt.title(\"Häufigkeitsanalyse\",loc=\"center\")\n",
    "plt.grid(True)\n",
    "plt.show()"
   ]
  },
  {
   "cell_type": "markdown",
   "metadata": {
    "hideCode": false,
    "hidePrompt": false
   },
   "source": [
    "#### Programmieren Sie die nächste Zelle so, dass Sie den Text ausgeben und Ihre Annahme der Sprache bestätigen können!"
   ]
  },
  {
   "cell_type": "code",
   "execution_count": 3,
   "metadata": {
    "hideCode": false,
    "hidePrompt": false
   },
   "outputs": [
    {
     "ename": "SyntaxError",
     "evalue": "invalid syntax (<ipython-input-3-cc11da54ec23>, line 2)",
     "output_type": "error",
     "traceback": [
      "\u001b[1;36m  File \u001b[1;32m\"<ipython-input-3-cc11da54ec23>\"\u001b[1;36m, line \u001b[1;32m2\u001b[0m\n\u001b[1;33m    Filename bitte:Text1.txt\u001b[0m\n\u001b[1;37m             ^\u001b[0m\n\u001b[1;31mSyntaxError\u001b[0m\u001b[1;31m:\u001b[0m invalid syntax\n"
     ]
    }
   ],
   "source": [
    "# Ihre Ausgabe !\n",
    "Filename bitte:Text1.txt\n",
    "\n",
    "Häufigkeitsanalyse:\n",
    "\n",
    "Num : 1 a taucht 50 Mal auf!\t 7.062%\n",
    "Num : 2 b taucht 9 Mal auf!\t 1.271%\n",
    "Num : 3 c taucht 28 Mal auf!\t 3.955%\n",
    "Num : 4 d taucht 21 Mal auf!\t 2.966%\n",
    "Num : 5 e taucht 115 Mal auf!\t16.243%\n",
    "Num : 6 f taucht 6 Mal auf!\t 0.847%\n",
    "Num : 7 g taucht 21 Mal auf!\t 2.966%\n",
    "Num : 8 h taucht 46 Mal auf!\t 6.497%\n",
    "Num : 9 i taucht 75 Mal auf!\t10.593%\n",
    "Num : 10 j taucht 4 Mal auf!\t 0.565%\n",
    "Num : 11 k taucht 10 Mal auf!\t 1.412%\n",
    "Num : 12 l taucht 21 Mal auf!\t 2.966%\n",
    "Num : 13 m taucht 38 Mal auf!\t 5.367%\n",
    "Num : 14 n taucht 81 Mal auf!\t11.441%\n",
    "Num : 15 o taucht 14 Mal auf!\t 1.977%\n",
    "Num : 16 p taucht 4 Mal auf!\t 0.565%\n",
    "Num : 17 q taucht nicht auf!\t\t 0.000%\n",
    "Num : 18 r taucht 37 Mal auf!\t 5.226%\n",
    "Num : 19 s taucht 44 Mal auf!\t 6.215%\n",
    "Num : 20 t taucht 44 Mal auf!\t 6.215%\n",
    "Num : 21 u taucht 21 Mal auf!\t 2.966%\n",
    "Num : 22 v taucht 3 Mal auf!\t 0.424%\n",
    "Num : 23 w taucht 10 Mal auf!\t 1.412%\n",
    "Num : 24 x taucht nicht auf!\t\t 0.000%\n",
    "Num : 25 y taucht 1 Mal auf!\t 0.141%\n",
    "Num : 26 z taucht 5 Mal auf!\t 0.706%\n",
    "\n",
    "Gesamtzahl der Buchstaben: 708\n",
    "Maximal Haeufigkeit haben Buchstabe/n : [5] mit 115 mal."
   ]
  },
  {
   "cell_type": "markdown",
   "metadata": {
    "hideCode": false,
    "hidePrompt": false
   },
   "source": [
    "### Aufgabe 2\n",
    "### Versuchen Sie aus Geheim.txt die Sprache und einen Schlüssel zu vermuten!\n",
    "\n",
    "* Bestimmen Sie an Hand der Häufigkeitsverteilung die Sprache!\n",
    "* Ermitteln Sie den möglichen Verschiebeschlüssel.\n",
    "\n",
    "#### Entschlüsseln Sie den Text mit nachfolgendem Caesar-Script!\n"
   ]
  },
  {
   "cell_type": "code",
   "execution_count": 12,
   "metadata": {},
   "outputs": [
    {
     "name": "stdout",
     "output_type": "stream",
     "text": [
      "Ihr Schlüssel :18\n",
      "Filename bitte:Geheim.txt\n",
      "\n",
      "Ihre verschlüsselte Nachricht ist : nUMBERS\n",
      "\n",
      "mOST INDIVIDUALS DON'T THINK ABOUT NUMBERS, OR NUMERICAL REPRESENTATIONS OF QUANTITY, BUT THEY PLAY A MAJOR PART IN EVERYDAY LIFE. tO BE SURE, NUMBERS DETERMINE THE TIME INDIVIDUALS WILL WAKE UP IN THE MORNING, HOW MUCH MONEY EMPLOYEES EARN PER HOUR, WHAT DAY OF THE YEAR IT IS, AND MUCH, MUCH MORE.\n",
      "\n",
      "aDDITIONALLY, NUMBERS IMPACT EVERYDAY LIVING ON A MUCH SMALLER SCALE. iN THE GROCERY STORE, FOR INSTANCE, NUMBERS DETERMINE PRODUCTS' PRICES, THE AMOUNT OF A PRODUCT AVAILABLE FOR PURCHASE, HOW MUCH MONEY WILL NEED TO BE PAID FOR PRODUCTS, AND A WHOLE LOT ELSE.\n",
      "\n",
      "tO UNDERSTAND LARGER (AND MORE INTIMIDATING NUMBERS), INTERESTED PERSONS FIRST NEED TO UNDERSTAND BASIC NUMBERS, OR NUMBERS FROM ONE TO TEN, AS THEY COMPRISE EACH AND EVERY ADVANCED NUMBER, OR A MULTI-DIGIT NUMBER THAT INDICATES A LARGER AMOUNT/QUANTITY.\n"
     ]
    }
   ],
   "source": [
    "import string\n",
    "\n",
    "def caesar(na,k,alpha = string.ascii_letters):\n",
    "    verschiebung = alpha[k:] + alpha[:k]\n",
    "    na = str(na)\n",
    "    dic = na.maketrans(alpha,verschiebung)\n",
    "    return (na.translate(dic))\n",
    "\n",
    "key = int(input(\"Ihr Schlüssel :\"))\n",
    "\n",
    "filename = input (\"Filename bitte:\") # unsere Files Klartext und encrypted aus Wireshark\n",
    "infile = open(filename, \"r\")\n",
    "s0 = infile.read()                   # die Datei ist in der Zeichenkette s0 gespeichert\n",
    "s = s0.lower()                       # alle die Grossbuchstaben werden klein geschrieben\n",
    "infile.close()\n",
    "\n",
    "# Entschlüsselungs-Aufruf und Ausgabe\n",
    "\n",
    "decrypt = caesar(s0,key)\n",
    "print (\"\\nIhre verschlüsselte Nachricht ist :\", decrypt)\n"
   ]
  },
  {
   "cell_type": "markdown",
   "metadata": {},
   "source": [
    "#### Um welche Sprache handelt es sich, und warum?\n",
    "\n",
    "##### Ihre Notizen und Begründung:\n",
    "\n",
    "##### ...................................................................................................................."
   ]
  },
  {
   "cell_type": "markdown",
   "metadata": {
    "hideCode": false,
    "hidePrompt": false
   },
   "source": [
    "#### Die hier durchgeführte manuelle Entschlüsselung erfordert die Kenntnis der Sprache und deren Buchstabenhäufigkeit. Im nachfolgenden Demonstrationscript kann dieser Prozess automatisiert werden, so dass eine automatische Entschlüsselung erfolgt. Dazu verwenden wir folgende string - Operation:\n",
    "## $$ string.find()$$\n",
    "##  $$ str.find(sub[, start[, end]])$$\n",
    "#### Return the lowest index in the string, where substring sub is found within the slice s[start:end]. Optional arguments start and end are interpreted as in slice notation. Return -1 if sub is not found."
   ]
  },
  {
   "cell_type": "markdown",
   "metadata": {
    "hideCode": false,
    "hidePrompt": false
   },
   "source": [
    "### Aufgabe 3 \n",
    "#### Automatische Dateientschlüsselung!\n",
    "#### Modifizieren Sie das Script so, dass die Datei Geheim.txt automatisch entschlüsselt wird."
   ]
  },
  {
   "cell_type": "code",
   "execution_count": 13,
   "metadata": {
    "hideCode": false,
    "hidePrompt": false
   },
   "outputs": [
    {
     "name": "stdout",
     "output_type": "stream",
     "text": [
      "Filename bitte:Geheim.txt\n",
      "Key 0: \n",
      "vcujmza\n",
      "\n",
      "uwab qvlqdqlcita lwv'b bpqvs ijwcb vcujmza, wz vcumzqkit zmxzmamvbibqwva wn ycivbqbg, jcb bpmg xtig i uirwz xizb qv mdmzglig tqnm. bw jm aczm, vcujmza lmbmzuqvm bpm bqum qvlqdqlcita eqtt eism cx qv bpm uwzvqvo, pwe uckp uwvmg muxtwgmma mizv xmz pwcz, epib lig wn bpm gmiz qb qa, ivl uckp, uckp uwzm.\n",
      "\n",
      "illqbqwvittg, vcujmza quxikb mdmzglig tqdqvo wv i uckp auittmz akitm. qv bpm ozwkmzg abwzm, nwz qvabivkm, vcujmza lmbmzuqvm xzwlckba' xzqkma, bpm iuwcvb wn i xzwlckb idiqtijtm nwz xczkpiam, pwe uckp uwvmg eqtt vmml bw jm xiql nwz xzwlckba, ivl i epwtm twb mtam.\n",
      "\n",
      "bw cvlmzabivl tizomz (ivl uwzm qvbquqlibqvo vcujmza), qvbmzmabml xmzawva nqzab vmml bw cvlmzabivl jiaqk vcujmza, wz vcujmza nzwu wvm bw bmv, ia bpmg kwuxzqam mikp ivl mdmzg ildivkml vcujmz, wz i uctbq-lqoqb vcujmz bpib qvlqkibma i tizomz iuwcvb/ycivbqbg.\n",
      "\n",
      "Key 1: \n",
      "ubtilyz\n",
      "\n",
      "tvza pukpcpkbhsz kvu'a aopur hivba ubtilyz, vy ubtlypjhs ylwylzluahapvuz vm xbhuapaf, iba aolf wshf h thqvy whya pu lclyfkhf spml. av il zbyl, ubtilyz klalytpul aol aptl pukpcpkbhsz dpss dhrl bw pu aol tvyupun, ovd tbjo tvulf ltwsvfllz lhyu wly ovby, doha khf vm aol flhy pa pz, huk tbjo, tbjo tvyl.\n",
      "\n",
      "hkkpapvuhssf, ubtilyz ptwhja lclyfkhf spcpun vu h tbjo zthssly zjhsl. pu aol nyvjlyf zavyl, mvy puzahujl, ubtilyz klalytpul wyvkbjaz' wypjlz, aol htvbua vm h wyvkbja hchpshisl mvy wbyjohzl, ovd tbjo tvulf dpss ullk av il whpk mvy wyvkbjaz, huk h dovsl sva lszl.\n",
      "\n",
      "av buklyzahuk shynly (huk tvyl puaptpkhapun ubtilyz), pualylzalk wlyzvuz mpyza ullk av buklyzahuk ihzpj ubtilyz, vy ubtilyz myvt vul av alu, hz aolf jvtwypzl lhjo huk lclyf hkchujlk ubtily, vy h tbsap-kpnpa ubtily aoha pukpjhalz h shynly htvbua/xbhuapaf.\n",
      "\n",
      "Key 2: \n",
      "tashkxy\n",
      "\n",
      "suyz otjobojagry jut'z znotq ghuaz tashkxy, ux taskxoigr xkvxkyktzgzouty ul wagtzoze, haz znke vrge g sgpux vgxz ot kbkxejge rolk. zu hk yaxk, tashkxy jkzkxsotk znk zosk otjobojagry corr cgqk av ot znk suxtotm, nuc sain sutke ksvruekky kgxt vkx nuax, cngz jge ul znk ekgx oz oy, gtj sain, sain suxk.\n",
      "\n",
      "gjjozoutgrre, tashkxy osvgiz kbkxejge robotm ut g sain ysgrrkx yigrk. ot znk mxuikxe yzuxk, lux otyzgtik, tashkxy jkzkxsotk vxujaizy' vxoiky, znk gsuatz ul g vxujaiz gbgorghrk lux vaxingyk, nuc sain sutke corr tkkj zu hk vgoj lux vxujaizy, gtj g cnurk ruz kryk.\n",
      "\n",
      "zu atjkxyzgtj rgxmkx (gtj suxk otzosojgzotm tashkxy), otzkxkyzkj vkxyuty loxyz tkkj zu atjkxyzgtj hgyoi tashkxy, ux tashkxy lxus utk zu zkt, gy znke iusvxoyk kgin gtj kbkxe gjbgtikj tashkx, ux g sarzo-jomoz tashkx zngz otjoigzky g rgxmkx gsuatz/wagtzoze.\n",
      "\n",
      "Key 3: \n",
      "szrgjwx\n",
      "\n",
      "rtxy nsinanizfqx its'y ymnsp fgtzy szrgjwx, tw szrjwnhfq wjuwjxjsyfyntsx tk vzfsynyd, gzy ymjd uqfd f rfotw ufwy ns jajwdifd qnkj. yt gj xzwj, szrgjwx ijyjwrnsj ymj ynrj nsinanizfqx bnqq bfpj zu ns ymj rtwsnsl, mtb rzhm rtsjd jruqtdjjx jfws ujw mtzw, bmfy ifd tk ymj djfw ny nx, fsi rzhm, rzhm rtwj.\n",
      "\n",
      "fiinyntsfqqd, szrgjwx nrufhy jajwdifd qnansl ts f rzhm xrfqqjw xhfqj. ns ymj lwthjwd xytwj, ktw nsxyfshj, szrgjwx ijyjwrnsj uwtizhyx' uwnhjx, ymj frtzsy tk f uwtizhy fafnqfgqj ktw uzwhmfxj, mtb rzhm rtsjd bnqq sjji yt gj ufni ktw uwtizhyx, fsi f bmtqj qty jqxj.\n",
      "\n",
      "yt zsijwxyfsi qfwljw (fsi rtwj nsynrnifynsl szrgjwx), nsyjwjxyji ujwxtsx knwxy sjji yt zsijwxyfsi gfxnh szrgjwx, tw szrgjwx kwtr tsj yt yjs, fx ymjd htruwnxj jfhm fsi jajwd fiafshji szrgjw, tw f rzqyn-inlny szrgjw ymfy nsinhfyjx f qfwljw frtzsy/vzfsynyd.\n",
      "\n",
      "Key 4: \n",
      "ryqfivw\n",
      "\n",
      "qswx mrhmzmhyepw hsr'x xlmro efsyx ryqfivw, sv ryqivmgep vitviwirxexmsrw sj uyerxmxc, fyx xlic tpec e qensv tevx mr izivchec pmji. xs fi wyvi, ryqfivw hixivqmri xli xmqi mrhmzmhyepw ampp aeoi yt mr xli qsvrmrk, lsa qygl qsric iqtpsciiw ievr tiv lsyv, alex hec sj xli ciev mx mw, erh qygl, qygl qsvi.\n",
      "\n",
      "ehhmxmsreppc, ryqfivw mqtegx izivchec pmzmrk sr e qygl wqeppiv wgepi. mr xli kvsgivc wxsvi, jsv mrwxergi, ryqfivw hixivqmri tvshygxw' tvmgiw, xli eqsyrx sj e tvshygx ezempefpi jsv tyvglewi, lsa qygl qsric ampp riih xs fi temh jsv tvshygxw, erh e alspi psx ipwi.\n",
      "\n",
      "xs yrhivwxerh pevkiv (erh qsvi mrxmqmhexmrk ryqfivw), mrxiviwxih tivwsrw jmvwx riih xs yrhivwxerh fewmg ryqfivw, sv ryqfivw jvsq sri xs xir, ew xlic gsqtvmwi iegl erh izivc ehzergih ryqfiv, sv e qypxm-hmkmx ryqfiv xlex mrhmgexiw e pevkiv eqsyrx/uyerxmxc.\n",
      "\n",
      "Key 5: \n",
      "qxpehuv\n",
      "\n",
      "prvw lqglylgxdov grq'w wklqn derxw qxpehuv, ru qxphulfdo uhsuhvhqwdwlrqv ri txdqwlwb, exw wkhb sodb d pdmru sduw lq hyhubgdb olih. wr eh vxuh, qxpehuv ghwhuplqh wkh wlph lqglylgxdov zloo zdnh xs lq wkh pruqlqj, krz pxfk prqhb hpsorbhhv hduq shu krxu, zkdw gdb ri wkh bhdu lw lv, dqg pxfk, pxfk pruh.\n",
      "\n",
      "dgglwlrqdoob, qxpehuv lpsdfw hyhubgdb olylqj rq d pxfk vpdoohu vfdoh. lq wkh jurfhub vwruh, iru lqvwdqfh, qxpehuv ghwhuplqh surgxfwv' sulfhv, wkh dprxqw ri d surgxfw dydlodeoh iru sxufkdvh, krz pxfk prqhb zloo qhhg wr eh sdlg iru surgxfwv, dqg d zkroh orw hovh.\n",
      "\n",
      "wr xqghuvwdqg odujhu (dqg pruh lqwlplgdwlqj qxpehuv), lqwhuhvwhg shuvrqv iluvw qhhg wr xqghuvwdqg edvlf qxpehuv, ru qxpehuv iurp rqh wr whq, dv wkhb frpsulvh hdfk dqg hyhub dgydqfhg qxpehu, ru d pxowl-gljlw qxpehu wkdw lqglfdwhv d odujhu dprxqw/txdqwlwb.\n",
      "\n",
      "Key 6: \n",
      "pwodgtu\n",
      "\n",
      "oquv kpfkxkfwcnu fqp'v vjkpm cdqwv pwodgtu, qt pwogtkecn tgrtgugpvcvkqpu qh swcpvkva, dwv vjga rnca c oclqt rctv kp gxgtafca nkhg. vq dg uwtg, pwodgtu fgvgtokpg vjg vkog kpfkxkfwcnu yknn ycmg wr kp vjg oqtpkpi, jqy owej oqpga gornqaggu gctp rgt jqwt, yjcv fca qh vjg agct kv ku, cpf owej, owej oqtg.\n",
      "\n",
      "cffkvkqpcnna, pwodgtu korcev gxgtafca nkxkpi qp c owej uocnngt uecng. kp vjg itqegta uvqtg, hqt kpuvcpeg, pwodgtu fgvgtokpg rtqfwevu' rtkegu, vjg coqwpv qh c rtqfwev cxckncdng hqt rwtejcug, jqy owej oqpga yknn pggf vq dg rckf hqt rtqfwevu, cpf c yjqng nqv gnug.\n",
      "\n",
      "vq wpfgtuvcpf nctigt (cpf oqtg kpvkokfcvkpi pwodgtu), kpvgtguvgf rgtuqpu hktuv pggf vq wpfgtuvcpf dcuke pwodgtu, qt pwodgtu htqo qpg vq vgp, cu vjga eqortkug gcej cpf gxgta cfxcpegf pwodgt, qt c ownvk-fkikv pwodgt vjcv kpfkecvgu c nctigt coqwpv/swcpvkva.\n",
      "\n",
      "Key 7: \n",
      "ovncfst\n",
      "\n",
      "nptu joejwjevbmt epo'u uijol bcpvu ovncfst, ps ovnfsjdbm sfqsftfoubujpot pg rvboujuz, cvu uifz qmbz b nbkps qbsu jo fwfszebz mjgf. up cf tvsf, ovncfst efufsnjof uif ujnf joejwjevbmt xjmm xblf vq jo uif npsojoh, ipx nvdi npofz fnqmpzfft fbso qfs ipvs, xibu ebz pg uif zfbs ju jt, boe nvdi, nvdi npsf.\n",
      "\n",
      "beejujpobmmz, ovncfst jnqbdu fwfszebz mjwjoh po b nvdi tnbmmfs tdbmf. jo uif hspdfsz tupsf, gps jotubodf, ovncfst efufsnjof qspevdut' qsjdft, uif bnpvou pg b qspevdu bwbjmbcmf gps qvsdibtf, ipx nvdi npofz xjmm offe up cf qbje gps qspevdut, boe b xipmf mpu fmtf.\n",
      "\n",
      "up voefstuboe mbshfs (boe npsf joujnjebujoh ovncfst), joufsftufe qfstpot gjstu offe up voefstuboe cbtjd ovncfst, ps ovncfst gspn pof up ufo, bt uifz dpnqsjtf fbdi boe fwfsz bewbodfe ovncfs, ps b nvmuj-ejhju ovncfs uibu joejdbuft b mbshfs bnpvou/rvboujuz.\n",
      "\n",
      "Key 8: \n",
      "numbers\n",
      "\n",
      "most individuals don't think about numbers, or numerical representations of quantity, but they play a major part in everyday life. to be sure, numbers determine the time individuals will wake up in the morning, how much money employees earn per hour, what day of the year it is, and much, much more.\n",
      "\n",
      "additionally, numbers impact everyday living on a much smaller scale. in the grocery store, for instance, numbers determine products' prices, the amount of a product available for purchase, how much money will need to be paid for products, and a whole lot else.\n",
      "\n",
      "to understand larger (and more intimidating numbers), interested persons first need to understand basic numbers, or numbers from one to ten, as they comprise each and every advanced number, or a multi-digit number that indicates a larger amount/quantity.\n",
      "\n",
      "Key 9: \n",
      "mtladqr\n",
      "\n",
      "lnrs hmchuhctzkr cnm's sghmj zants mtladqr, nq mtldqhbzk qdoqdrdmszshnmr ne ptzmshsx, ats sgdx okzx z lzinq ozqs hm dudqxczx khed. sn ad rtqd, mtladqr cdsdqlhmd sgd shld hmchuhctzkr vhkk vzjd to hm sgd lnqmhmf, gnv ltbg lnmdx dloknxddr dzqm odq gntq, vgzs czx ne sgd xdzq hs hr, zmc ltbg, ltbg lnqd.\n",
      "\n",
      "zcchshnmzkkx, mtladqr hlozbs dudqxczx khuhmf nm z ltbg rlzkkdq rbzkd. hm sgd fqnbdqx rsnqd, enq hmrszmbd, mtladqr cdsdqlhmd oqnctbsr' oqhbdr, sgd zlntms ne z oqnctbs zuzhkzakd enq otqbgzrd, gnv ltbg lnmdx vhkk mddc sn ad ozhc enq oqnctbsr, zmc z vgnkd kns dkrd.\n",
      "\n",
      "sn tmcdqrszmc kzqfdq (zmc lnqd hmshlhczshmf mtladqr), hmsdqdrsdc odqrnmr ehqrs mddc sn tmcdqrszmc azrhb mtladqr, nq mtladqr eqnl nmd sn sdm, zr sgdx bnloqhrd dzbg zmc dudqx zcuzmbdc mtladq, nq z ltksh-chfhs mtladq sgzs hmchbzsdr z kzqfdq zlntms/ptzmshsx.\n",
      "\n",
      "Key 10: \n",
      "lskzcpq\n",
      "\n",
      "kmqr glbgtgbsyjq bml'r rfgli yzmsr lskzcpq, mp lskcpgayj pcnpcqclryrgmlq md osylrgrw, zsr rfcw njyw y kyhmp nypr gl ctcpwbyw jgdc. rm zc qspc, lskzcpq bcrcpkglc rfc rgkc glbgtgbsyjq ugjj uyic sn gl rfc kmplgle, fmu ksaf kmlcw cknjmwccq cypl ncp fmsp, ufyr byw md rfc wcyp gr gq, ylb ksaf, ksaf kmpc.\n",
      "\n",
      "ybbgrgmlyjjw, lskzcpq gknyar ctcpwbyw jgtgle ml y ksaf qkyjjcp qayjc. gl rfc epmacpw qrmpc, dmp glqrylac, lskzcpq bcrcpkglc npmbsarq' npgacq, rfc ykmslr md y npmbsar ytygjyzjc dmp nspafyqc, fmu ksaf kmlcw ugjj lccb rm zc nygb dmp npmbsarq, ylb y ufmjc jmr cjqc.\n",
      "\n",
      "rm slbcpqrylb jypecp (ylb kmpc glrgkgbyrgle lskzcpq), glrcpcqrcb ncpqmlq dgpqr lccb rm slbcpqrylb zyqga lskzcpq, mp lskzcpq dpmk mlc rm rcl, yq rfcw amknpgqc cyaf ylb ctcpw ybtylacb lskzcp, mp y ksjrg-bgegr lskzcp rfyr glbgayrcq y jypecp ykmslr/osylrgrw.\n",
      "\n",
      "Key 11: \n",
      "krjybop\n",
      "\n",
      "jlpq fkafsfarxip alk'q qefkh xylrq krjybop, lo krjbofzxi obmobpbkqxqflkp lc nrxkqfqv, yrq qebv mixv x jxglo mxoq fk bsbovaxv ifcb. ql yb prob, krjybop abqbojfkb qeb qfjb fkafsfarxip tfii txhb rm fk qeb jlokfkd, elt jrze jlkbv bjmilvbbp bxok mbo elro, texq axv lc qeb vbxo fq fp, xka jrze, jrze jlob.\n",
      "\n",
      "xaafqflkxiiv, krjybop fjmxzq bsbovaxv ifsfkd lk x jrze pjxiibo pzxib. fk qeb dolzbov pqlob, clo fkpqxkzb, krjybop abqbojfkb molarzqp' mofzbp, qeb xjlrkq lc x molarzq xsxfixyib clo mrozexpb, elt jrze jlkbv tfii kbba ql yb mxfa clo molarzqp, xka x telib ilq bipb.\n",
      "\n",
      "ql rkabopqxka ixodbo (xka jlob fkqfjfaxqfkd krjybop), fkqbobpqba mboplkp cfopq kbba ql rkabopqxka yxpfz krjybop, lo krjybop colj lkb ql qbk, xp qebv zljmofpb bxze xka bsbov xasxkzba krjybo, lo x jriqf-afdfq krjybo qexq fkafzxqbp x ixodbo xjlrkq/nrxkqfqv.\n",
      "\n",
      "Key 12: \n",
      "jqixano\n",
      "\n",
      "ikop ejzerezqwho zkj'p pdejg wxkqp jqixano, kn jqianeywh nalnaoajpwpekjo kb mqwjpepu, xqp pdau lhwu w iwfkn lwnp ej aranuzwu heba. pk xa oqna, jqixano zapanieja pda peia ejzerezqwho sehh swga ql ej pda iknjejc, dks iqyd ikjau ailhkuaao awnj lan dkqn, sdwp zwu kb pda uawn ep eo, wjz iqyd, iqyd ikna.\n",
      "\n",
      "wzzepekjwhhu, jqixano eilwyp aranuzwu herejc kj w iqyd oiwhhan oywha. ej pda cnkyanu opkna, bkn ejopwjya, jqixano zapanieja lnkzqypo' lneyao, pda wikqjp kb w lnkzqyp wrwehwxha bkn lqnydwoa, dks iqyd ikjau sehh jaaz pk xa lwez bkn lnkzqypo, wjz w sdkha hkp ahoa.\n",
      "\n",
      "pk qjzanopwjz hwncan (wjz ikna ejpeiezwpejc jqixano), ejpanaopaz lanokjo benop jaaz pk qjzanopwjz xwoey jqixano, kn jqixano bnki kja pk paj, wo pdau ykilneoa awyd wjz aranu wzrwjyaz jqixan, kn w iqhpe-zecep jqixan pdwp ejzeywpao w hwncan wikqjp/mqwjpepu.\n",
      "\n",
      "Key 13: \n",
      "iphwzmn\n",
      "\n",
      "hjno diydqdypvgn yji'o ocdif vwjpo iphwzmn, jm iphzmdxvg mzkmznziovodjin ja lpviodot, wpo oczt kgvt v hvejm kvmo di zqzmtyvt gdaz. oj wz npmz, iphwzmn yzozmhdiz ocz odhz diydqdypvgn rdgg rvfz pk di ocz hjmidib, cjr hpxc hjizt zhkgjtzzn zvmi kzm cjpm, rcvo yvt ja ocz tzvm do dn, viy hpxc, hpxc hjmz.\n",
      "\n",
      "vyydodjivggt, iphwzmn dhkvxo zqzmtyvt gdqdib ji v hpxc nhvggzm nxvgz. di ocz bmjxzmt nojmz, ajm dinovixz, iphwzmn yzozmhdiz kmjypxon' kmdxzn, ocz vhjpio ja v kmjypxo vqvdgvwgz ajm kpmxcvnz, cjr hpxc hjizt rdgg izzy oj wz kvdy ajm kmjypxon, viy v rcjgz gjo zgnz.\n",
      "\n",
      "oj piyzmnoviy gvmbzm (viy hjmz diodhdyvodib iphwzmn), diozmznozy kzmnjin admno izzy oj piyzmnoviy wvndx iphwzmn, jm iphwzmn amjh jiz oj ozi, vn oczt xjhkmdnz zvxc viy zqzmt vyqvixzy iphwzm, jm v hpgod-ydbdo iphwzm ocvo diydxvozn v gvmbzm vhjpio/lpviodot.\n",
      "\n",
      "Key 14: \n",
      "hogvylm\n",
      "\n",
      "gimn chxcpcxoufm xih'n nbche uvion hogvylm, il hogylcwuf lyjlymyhnuncihm iz kouhncns, von nbys jfus u gudil juln ch ypylsxus fczy. ni vy moly, hogvylm xynylgchy nby ncgy chxcpcxoufm qcff quey oj ch nby gilhcha, biq gowb gihys ygjfisyym yulh jyl biol, qbun xus iz nby syul cn cm, uhx gowb, gowb gily.\n",
      "\n",
      "uxxcncihuffs, hogvylm cgjuwn ypylsxus fcpcha ih u gowb mguffyl mwufy. ch nby aliwyls mnily, zil chmnuhwy, hogvylm xynylgchy jlixownm' jlcwym, nby ugiohn iz u jlixown upucfuvfy zil jolwbumy, biq gowb gihys qcff hyyx ni vy jucx zil jlixownm, uhx u qbify fin yfmy.\n",
      "\n",
      "ni ohxylmnuhx fulayl (uhx gily chncgcxuncha hogvylm), chnylymnyx jylmihm zclmn hyyx ni ohxylmnuhx vumcw hogvylm, il hogvylm zlig ihy ni nyh, um nbys wigjlcmy yuwb uhx ypyls uxpuhwyx hogvyl, il u gofnc-xcacn hogvyl nbun chxcwunym u fulayl ugiohn/kouhncns.\n",
      "\n",
      "Key 15: \n",
      "gnfuxkl\n",
      "\n",
      "fhlm bgwbobwntel whg'm mabgd tuhnm gnfuxkl, hk gnfxkbvte kxikxlxgmtmbhgl hy jntgmbmr, unm maxr ietr t ftchk itkm bg xoxkrwtr ebyx. mh ux lnkx, gnfuxkl wxmxkfbgx max mbfx bgwbobwntel pbee ptdx ni bg max fhkgbgz, ahp fnva fhgxr xfiehrxxl xtkg ixk ahnk, patm wtr hy max rxtk bm bl, tgw fnva, fnva fhkx.\n",
      "\n",
      "twwbmbhgteer, gnfuxkl bfitvm xoxkrwtr ebobgz hg t fnva lfteexk lvtex. bg max zkhvxkr lmhkx, yhk bglmtgvx, gnfuxkl wxmxkfbgx ikhwnvml' ikbvxl, max tfhngm hy t ikhwnvm totbetuex yhk inkvatlx, ahp fnva fhgxr pbee gxxw mh ux itbw yhk ikhwnvml, tgw t pahex ehm xelx.\n",
      "\n",
      "mh ngwxklmtgw etkzxk (tgw fhkx bgmbfbwtmbgz gnfuxkl), bgmxkxlmxw ixklhgl ybklm gxxw mh ngwxklmtgw utlbv gnfuxkl, hk gnfuxkl ykhf hgx mh mxg, tl maxr vhfikblx xtva tgw xoxkr twotgvxw gnfuxk, hk t fnemb-wbzbm gnfuxk matm bgwbvtmxl t etkzxk tfhngm/jntgmbmr.\n",
      "\n",
      "Key 16: \n",
      "fmetwjk\n",
      "\n",
      "egkl afvanavmsdk vgf'l lzafc stgml fmetwjk, gj fmewjausd jwhjwkwflslagfk gx imsflalq, tml lzwq hdsq s esbgj hsjl af wnwjqvsq daxw. lg tw kmjw, fmetwjk vwlwjeafw lzw laew afvanavmsdk oadd oscw mh af lzw egjfafy, zgo emuz egfwq wehdgqwwk wsjf hwj zgmj, ozsl vsq gx lzw qwsj al ak, sfv emuz, emuz egjw.\n",
      "\n",
      "svvalagfsddq, fmetwjk aehsul wnwjqvsq danafy gf s emuz kesddwj kusdw. af lzw yjguwjq klgjw, xgj afklsfuw, fmetwjk vwlwjeafw hjgvmulk' hjauwk, lzw segmfl gx s hjgvmul snsadstdw xgj hmjuzskw, zgo emuz egfwq oadd fwwv lg tw hsav xgj hjgvmulk, sfv s ozgdw dgl wdkw.\n",
      "\n",
      "lg mfvwjklsfv dsjywj (sfv egjw aflaeavslafy fmetwjk), aflwjwklwv hwjkgfk xajkl fwwv lg mfvwjklsfv tskau fmetwjk, gj fmetwjk xjge gfw lg lwf, sk lzwq ugehjakw wsuz sfv wnwjq svnsfuwv fmetwj, gj s emdla-vayal fmetwj lzsl afvauslwk s dsjywj segmfl/imsflalq.\n",
      "\n",
      "Key 17: \n",
      "eldsvij\n",
      "\n",
      "dfjk zeuzmzulrcj ufe'k kyzeb rsflk eldsvij, fi eldviztrc ivgivjvekrkzfej fw hlrekzkp, slk kyvp gcrp r drafi grik ze vmvipurp czwv. kf sv jliv, eldsvij uvkvidzev kyv kzdv zeuzmzulrcj nzcc nrbv lg ze kyv dfiezex, yfn dlty dfevp vdgcfpvvj vrie gvi yfli, nyrk urp fw kyv pvri zk zj, reu dlty, dlty dfiv.\n",
      "\n",
      "ruuzkzferccp, eldsvij zdgrtk vmvipurp czmzex fe r dlty jdrccvi jtrcv. ze kyv xiftvip jkfiv, wfi zejkretv, eldsvij uvkvidzev gifultkj' giztvj, kyv rdflek fw r gifultk rmrzcrscv wfi glityrjv, yfn dlty dfevp nzcc evvu kf sv grzu wfi gifultkj, reu r nyfcv cfk vcjv.\n",
      "\n",
      "kf leuvijkreu crixvi (reu dfiv zekzdzurkzex eldsvij), zekvivjkvu gvijfej wzijk evvu kf leuvijkreu srjzt eldsvij, fi eldsvij wifd fev kf kve, rj kyvp tfdgizjv vrty reu vmvip rumretvu eldsvi, fi r dlckz-uzxzk eldsvi kyrk zeuztrkvj r crixvi rdflek/hlrekzkp.\n",
      "\n",
      "Key 18: \n",
      "dkcruhi\n",
      "\n",
      "ceij ydtylytkqbi ted'j jxyda qrekj dkcruhi, eh dkcuhysqb hufhuiudjqjyedi ev gkqdjyjo, rkj jxuo fbqo q cqzeh fqhj yd uluhotqo byvu. je ru ikhu, dkcruhi tujuhcydu jxu jycu ydtylytkqbi mybb mqau kf yd jxu cehdydw, xem cksx ceduo ucfbeouui uqhd fuh xekh, mxqj tqo ev jxu ouqh yj yi, qdt cksx, cksx cehu.\n",
      "\n",
      "qttyjyedqbbo, dkcruhi ycfqsj uluhotqo bylydw ed q cksx icqbbuh isqbu. yd jxu whesuho ijehu, veh ydijqdsu, dkcruhi tujuhcydu fhetksji' fhysui, jxu qcekdj ev q fhetksj qlqybqrbu veh fkhsxqiu, xem cksx ceduo mybb duut je ru fqyt veh fhetksji, qdt q mxebu bej ubiu.\n",
      "\n",
      "je kdtuhijqdt bqhwuh (qdt cehu ydjycytqjydw dkcruhi), ydjuhuijut fuhiedi vyhij duut je kdtuhijqdt rqiys dkcruhi, eh dkcruhi vhec edu je jud, qi jxuo secfhyiu uqsx qdt uluho qtlqdsut dkcruh, eh q ckbjy-tywyj dkcruh jxqj ydtysqjui q bqhwuh qcekdj/gkqdjyjo.\n",
      "\n",
      "Key 19: \n",
      "cjbqtgh\n",
      "\n",
      "bdhi xcsxkxsjpah sdc'i iwxcz pqdji cjbqtgh, dg cjbtgxrpa gtegthtcipixdch du fjpcixin, qji iwtn eapn p bpydg epgi xc tktgnspn axut. id qt hjgt, cjbqtgh stitgbxct iwt ixbt xcsxkxsjpah lxaa lpzt je xc iwt bdgcxcv, wdl bjrw bdctn tbeadntth tpgc etg wdjg, lwpi spn du iwt ntpg xi xh, pcs bjrw, bjrw bdgt.\n",
      "\n",
      "pssxixdcpaan, cjbqtgh xbepri tktgnspn axkxcv dc p bjrw hbpaatg hrpat. xc iwt vgdrtgn hidgt, udg xchipcrt, cjbqtgh stitgbxct egdsjrih' egxrth, iwt pbdjci du p egdsjri pkpxapqat udg ejgrwpht, wdl bjrw bdctn lxaa ctts id qt epxs udg egdsjrih, pcs p lwdat adi taht.\n",
      "\n",
      "id jcstghipcs apgvtg (pcs bdgt xcixbxspixcv cjbqtgh), xcitgthits etghdch uxghi ctts id jcstghipcs qphxr cjbqtgh, dg cjbqtgh ugdb dct id itc, ph iwtn rdbegxht tprw pcs tktgn pskpcrts cjbqtg, dg p bjaix-sxvxi cjbqtg iwpi xcsxrpith p apgvtg pbdjci/fjpcixin.\n",
      "\n",
      "Key 20: \n",
      "biapsfg\n",
      "\n",
      "acgh wbrwjwriozg rcb'h hvwby opcih biapsfg, cf biasfwqoz fsdfsgsbhohwcbg ct eiobhwhm, pih hvsm dzom o aoxcf dofh wb sjsfmrom zwts. hc ps gifs, biapsfg rshsfawbs hvs hwas wbrwjwriozg kwzz koys id wb hvs acfbwbu, vck aiqv acbsm sadzcmssg sofb dsf vcif, kvoh rom ct hvs msof wh wg, obr aiqv, aiqv acfs.\n",
      "\n",
      "orrwhwcbozzm, biapsfg wadoqh sjsfmrom zwjwbu cb o aiqv gaozzsf gqozs. wb hvs ufcqsfm ghcfs, tcf wbghobqs, biapsfg rshsfawbs dfcriqhg' dfwqsg, hvs oacibh ct o dfcriqh ojowzopzs tcf difqvogs, vck aiqv acbsm kwzz bssr hc ps dowr tcf dfcriqhg, obr o kvczs zch szgs.\n",
      "\n",
      "hc ibrsfghobr zofusf (obr acfs wbhwawrohwbu biapsfg), wbhsfsghsr dsfgcbg twfgh bssr hc ibrsfghobr pogwq biapsfg, cf biapsfg tfca cbs hc hsb, og hvsm qcadfwgs soqv obr sjsfm orjobqsr biapsf, cf o aizhw-rwuwh biapsf hvoh wbrwqohsg o zofusf oacibh/eiobhwhm.\n",
      "\n",
      "Key 21: \n",
      "ahzoref\n",
      "\n",
      "zbfg vaqvivqhnyf qba'g guvax nobhg ahzoref, be ahzrevpny ercerfragngvbaf bs dhnagvgl, ohg gurl cynl n znwbe cneg va rirelqnl yvsr. gb or fher, ahzoref qrgrezvar gur gvzr vaqvivqhnyf jvyy jnxr hc va gur zbeavat, ubj zhpu zbarl rzcyblrrf rnea cre ubhe, jung qnl bs gur lrne vg vf, naq zhpu, zhpu zber.\n",
      "\n",
      "nqqvgvbanyyl, ahzoref vzcnpg rirelqnl yvivat ba n zhpu fznyyre fpnyr. va gur tebprel fgber, sbe vafgnapr, ahzoref qrgrezvar cebqhpgf' cevprf, gur nzbhag bs n cebqhpg ninvynoyr sbe chepunfr, ubj zhpu zbarl jvyy arrq gb or cnvq sbe cebqhpgf, naq n jubyr ybg ryfr.\n",
      "\n",
      "gb haqrefgnaq ynetre (naq zber vagvzvqngvat ahzoref), vagrerfgrq crefbaf svefg arrq gb haqrefgnaq onfvp ahzoref, be ahzoref sebz bar gb gra, nf gurl pbzcevfr rnpu naq rirel nqinaprq ahzore, be n zhygv-qvtvg ahzore gung vaqvpngrf n ynetre nzbhag/dhnagvgl.\n",
      "\n",
      "Key 22: \n",
      "zgynqde\n",
      "\n",
      "yaef uzpuhupgmxe paz'f ftuzw mnagf zgynqde, ad zgyqduomx dqbdqeqzfmfuaze ar cgmzfufk, ngf ftqk bxmk m ymvad bmdf uz qhqdkpmk xurq. fa nq egdq, zgynqde pqfqdyuzq ftq fuyq uzpuhupgmxe iuxx imwq gb uz ftq yadzuzs, tai ygot yazqk qybxakqqe qmdz bqd tagd, itmf pmk ar ftq kqmd uf ue, mzp ygot, ygot yadq.\n",
      "\n",
      "mppufuazmxxk, zgynqde uybmof qhqdkpmk xuhuzs az m ygot eymxxqd eomxq. uz ftq sdaoqdk efadq, rad uzefmzoq, zgynqde pqfqdyuzq bdapgofe' bduoqe, ftq myagzf ar m bdapgof mhmuxmnxq rad bgdotmeq, tai ygot yazqk iuxx zqqp fa nq bmup rad bdapgofe, mzp m itaxq xaf qxeq.\n",
      "\n",
      "fa gzpqdefmzp xmdsqd (mzp yadq uzfuyupmfuzs zgynqde), uzfqdqefqp bqdeaze rudef zqqp fa gzpqdefmzp nmeuo zgynqde, ad zgynqde rday azq fa fqz, me ftqk oaybdueq qmot mzp qhqdk mphmzoqp zgynqd, ad m ygxfu-pusuf zgynqd ftmf uzpuomfqe m xmdsqd myagzf/cgmzfufk.\n",
      "\n",
      "Key 23: \n",
      "yfxmpcd\n",
      "\n",
      "xzde tyotgtoflwd ozy'e estyv lmzfe yfxmpcd, zc yfxpctnlw cpacpdpyeletzyd zq bflyetej, mfe espj awlj l xluzc alce ty pgpcjolj wtqp. ez mp dfcp, yfxmpcd opepcxtyp esp etxp tyotgtoflwd htww hlvp fa ty esp xzcytyr, szh xfns xzypj pxawzjppd plcy apc szfc, hsle olj zq esp jplc te td, lyo xfns, xfns xzcp.\n",
      "\n",
      "lootetzylwwj, yfxmpcd txalne pgpcjolj wtgtyr zy l xfns dxlwwpc dnlwp. ty esp rcznpcj dezcp, qzc tydelynp, yfxmpcd opepcxtyp aczofned' actnpd, esp lxzfye zq l aczofne lgltwlmwp qzc afcnsldp, szh xfns xzypj htww yppo ez mp alto qzc aczofned, lyo l hszwp wze pwdp.\n",
      "\n",
      "ez fyopcdelyo wlcrpc (lyo xzcp tyetxtoletyr yfxmpcd), tyepcpdepo apcdzyd qtcde yppo ez fyopcdelyo mldtn yfxmpcd, zc yfxmpcd qczx zyp ez epy, ld espj nzxactdp plns lyo pgpcj loglynpo yfxmpc, zc l xfwet-otrte yfxmpc esle tyotnlepd l wlcrpc lxzfye/bflyetej.\n",
      "\n",
      "Key 24: \n",
      "xewlobc\n",
      "\n",
      "wycd sxnsfsnekvc nyx'd drsxu klyed xewlobc, yb xewobsmkv bozbocoxdkdsyxc yp aekxdsdi, led droi zvki k wktyb zkbd sx ofobinki vspo. dy lo cebo, xewlobc nodobwsxo dro dswo sxnsfsnekvc gsvv gkuo ez sx dro wybxsxq, ryg wemr wyxoi owzvyiooc okbx zob ryeb, grkd nki yp dro iokb sd sc, kxn wemr, wemr wybo.\n",
      "\n",
      "knnsdsyxkvvi, xewlobc swzkmd ofobinki vsfsxq yx k wemr cwkvvob cmkvo. sx dro qbymobi cdybo, pyb sxcdkxmo, xewlobc nodobwsxo zbynemdc' zbsmoc, dro kwyexd yp k zbynemd kfksvklvo pyb zebmrkco, ryg wemr wyxoi gsvv xoon dy lo zksn pyb zbynemdc, kxn k gryvo vyd ovco.\n",
      "\n",
      "dy exnobcdkxn vkbqob (kxn wybo sxdswsnkdsxq xewlobc), sxdobocdon zobcyxc psbcd xoon dy exnobcdkxn lkcsm xewlobc, yb xewlobc pbyw yxo dy dox, kc droi mywzbsco okmr kxn ofobi knfkxmon xewlob, yb k wevds-nsqsd xewlob drkd sxnsmkdoc k vkbqob kwyexd/aekxdsdi.\n",
      "\n",
      "Key 25: \n",
      "wdvknab\n",
      "\n",
      "vxbc rwmrermdjub mxw'c cqrwt jkxdc wdvknab, xa wdvnarlju anyanbnwcjcrxwb xo zdjwcrch, kdc cqnh yujh j vjsxa yjac rw nenahmjh uron. cx kn bdan, wdvknab mncnavrwn cqn crvn rwmrermdjub fruu fjtn dy rw cqn vxawrwp, qxf vdlq vxwnh nvyuxhnnb njaw yna qxda, fqjc mjh xo cqn hnja rc rb, jwm vdlq, vdlq vxan.\n",
      "\n",
      "jmmrcrxwjuuh, wdvknab rvyjlc nenahmjh urerwp xw j vdlq bvjuuna bljun. rw cqn paxlnah bcxan, oxa rwbcjwln, wdvknab mncnavrwn yaxmdlcb' yarlnb, cqn jvxdwc xo j yaxmdlc jejrujkun oxa ydalqjbn, qxf vdlq vxwnh fruu wnnm cx kn yjrm oxa yaxmdlcb, jwm j fqxun uxc nubn.\n",
      "\n",
      "cx dwmnabcjwm ujapna (jwm vxan rwcrvrmjcrwp wdvknab), rwcnanbcnm ynabxwb orabc wnnm cx dwmnabcjwm kjbrl wdvknab, xa wdvknab oaxv xwn cx cnw, jb cqnh lxvyarbn njlq jwm nenah jmejwlnm wdvkna, xa j vducr-mrprc wdvkna cqjc rwmrljcnb j ujapna jvxdwc/zdjwcrch.\n",
      "\n"
     ]
    }
   ],
   "source": [
    "import string\n",
    "\n",
    "filename = input (\"Filename bitte:\") # unsere Files Klartext und encrypted aus Wireshark\n",
    "infile = open(filename, \"r\")\n",
    "s0 = infile.read()                   # die Datei ist in der Zeichenkette s0 gespeichert\n",
    "s = s0.lower()                       # alle die Grossbuchstaben werden klein geschrieben\n",
    "infile.close()\n",
    "\n",
    "Alpha = string.ascii_lowercase\n",
    "for key in range(len(Alpha)):\n",
    "    test = ''\n",
    "    for zeichen in s:\n",
    "        if zeichen in Alpha:\n",
    "            num = Alpha.find(zeichen)\n",
    "            num = num - key\n",
    "            if num < 0:\n",
    "                num = num + len(Alpha)\n",
    "            test = test + Alpha[num]\n",
    "        else:\n",
    "            test = test + zeichen\n",
    "    print('Key {}: \\n{}\\n'.format(key, test))\n"
   ]
  },
  {
   "cell_type": "code",
   "execution_count": null,
   "metadata": {
    "hideCode": false,
    "hidePrompt": false
   },
   "outputs": [],
   "source": []
  }
 ],
 "metadata": {
  "hide_code_all_hidden": false,
  "kernelspec": {
   "display_name": "Python 3",
   "language": "python",
   "name": "python3"
  },
  "language_info": {
   "codemirror_mode": {
    "name": "ipython",
    "version": 3
   },
   "file_extension": ".py",
   "mimetype": "text/x-python",
   "name": "python",
   "nbconvert_exporter": "python",
   "pygments_lexer": "ipython3",
   "version": "3.8.8"
  }
 },
 "nbformat": 4,
 "nbformat_minor": 1
}
