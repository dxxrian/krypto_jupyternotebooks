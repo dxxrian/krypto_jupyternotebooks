{
 "cells": [
  {
   "cell_type": "markdown",
   "metadata": {},
   "source": [
    "![Kopf-1](images/Kopf-1.png)"
   ]
  },
  {
   "cell_type": "markdown",
   "metadata": {
    "hideCode": true
   },
   "source": [
    "# Lab: Asymmetrische Verschluesselung\n",
    "![Pyth](images/Pyth-Wire.png)\n"
   ]
  },
  {
   "cell_type": "markdown",
   "metadata": {},
   "source": [
    "## In diesem Notebook stellen wir Ihnen programmtechnische Umsetzungen vom Diffie-Hellman vor!"
   ]
  },
  {
   "cell_type": "markdown",
   "metadata": {
    "hideCode": true,
    "hidePrompt": true
   },
   "source": [
    "## Voraussetzungen\n",
    "* ### Python-Scriptvorschlaege\n",
    "* ### Python (AnacondaFramework, Jupyter-Notebook)\n",
    "\n",
    "### Bitte arbeiten Sie alle Codezellen entsprechend einzeln ab! Benutzen Sie das \"Run\" (oben)! "
   ]
  },
  {
   "cell_type": "markdown",
   "metadata": {},
   "source": [
    "### Aus den Vorlesungen bzw. Übungen kennen Sie die grundlegende Arbeitsweise von Diffie-Hellman, welche hier kurz noch einmal graphisch dargestellt wird. Folgende Bilder demonstrieren die Arbeitsweise."
   ]
  },
  {
   "cell_type": "markdown",
   "metadata": {},
   "source": [
    "![DH-1](images/DH-1.png)"
   ]
  },
  {
   "cell_type": "markdown",
   "metadata": {},
   "source": [
    "### Nach dem öffentlichen Austausch berechnet jeder den symmetrischen Schlüssel, welcher gleich ist!"
   ]
  },
  {
   "cell_type": "markdown",
   "metadata": {},
   "source": [
    "![DH-2](images/DH-2.png)"
   ]
  },
  {
   "cell_type": "markdown",
   "metadata": {},
   "source": [
    "###  Der Schlüsselaustausch kann mit folgenden einzelnen Schritte beschrieben werden:\n",
    "* Schritt 1: Alice und Bob benutzen die öffentlich ausgetauschte Primzahl : p und die gemeinsame Basis : g\n",
    "* Schritt 2: Beide bestimmen für sich einen geheimen Key : a bzw. b\n",
    "* Schritt 3: Die öffentlichen Keys : α bzw. β werden folgenderma?en berechnet: \n",
    "## $$α  = g^a~mod~p~~~und~~~~β  = g^b~mod~p$$\n",
    "* Schritt 4: α bzw. β werden über den unsicheren Kanal ausgetauscht!\n",
    "* Schritt 5: Alice und Bob berechnen dann aus den bekannten Werten den symmetrischen Schlüssel:\n",
    "## $$ K_{a} = β^a~mod~p~=~(g^b~mod~p)^a~mod~p~~~~bzw.~K_{b}  = α^b~mod~p=~(g^a~mod~p)^b~mod~p$$\n",
    "\n",
    "\n",
    "\n",
    "\n",
    "\n"
   ]
  },
  {
   "cell_type": "markdown",
   "metadata": {},
   "source": [
    "![Prime](images/short_prime.png)\n",
    "### $$Primezahlen~~ bis ~~1000$$"
   ]
  },
  {
   "cell_type": "markdown",
   "metadata": {},
   "source": [
    "### Eigene Primzahltabelle berechnen! Sieb des Eratosthenes"
   ]
  },
  {
   "cell_type": "code",
   "execution_count": 1,
   "metadata": {},
   "outputs": [
    {
     "name": "stdout",
     "output_type": "stream",
     "text": [
      "Primzahlbereich bitte: 100\n",
      "2, 3, 5, 7, 11, 13, 17, 19, 23, 29, 31, 37, 41, 43, 47, 53, 59, 61, 67, 71, 73, 79, 83, 89, 97.\n"
     ]
    }
   ],
   "source": [
    "import sieb"
   ]
  },
  {
   "cell_type": "markdown",
   "metadata": {},
   "source": [
    "## Arbeitsschritte\n",
    "### Allgemeine Eingabe Ihrer gewählten Parameter!\n"
   ]
  },
  {
   "cell_type": "code",
   "execution_count": 11,
   "metadata": {},
   "outputs": [
    {
     "name": "stdout",
     "output_type": "stream",
     "text": [
      "Bitte Primzahl eingeben p = 23\n",
      "Bitte Base / Generator g = :3\n",
      "Alice privater Key : 6\n",
      "Bob privater Key : 15\n",
      "\n",
      "Öffentlich lesbare Variablen\n",
      "Gemeinsame Primzahl p:  23\n",
      "Gemeinsame Basis g:   3\n"
     ]
    }
   ],
   "source": [
    "import decimal\n",
    " \n",
    "p = int (decimal.Decimal (input (\"Bitte Primzahl eingeben p = \")))\n",
    "g = int (decimal.Decimal (input (\"Bitte Base / Generator g = :\")))\n",
    "\n",
    "#Eingabe Alice und Bob's -Geheime Keys \n",
    "\n",
    "a = int (decimal.Decimal (input (\"Alice privater Key : \")))\n",
    "b = int (decimal.Decimal (input (\"Bob privater Key : \")))\n",
    "\n",
    "print( \"\\nÖffentlich lesbare Variablen\")\n",
    "print( \"Gemeinsame Primzahl p: \" , p )\n",
    "print( \"Gemeinsame Basis g:  \" , g )"
   ]
  },
  {
   "cell_type": "markdown",
   "metadata": {},
   "source": [
    "### Setzen Sie die Berechnungen : \n",
    "## $$α  = g^a~mod~p~~~und~~~~β  = g^b~mod~p$$\n",
    "### in der nachfolgenden Zelle um."
   ]
  },
  {
   "cell_type": "code",
   "execution_count": 12,
   "metadata": {},
   "outputs": [
    {
     "name": "stdout",
     "output_type": "stream",
     "text": [
      "\n",
      "Alice-Pub über den öffentlichen Kanal:  16\n",
      "Bob-Pub über den öffentlichen Kanal:  12\n"
     ]
    }
   ],
   "source": [
    "# Alice Key-Berechnung Alpha = g^a mod p\n",
    "\n",
    "Alpha = g**a%p\n",
    "print( \"\\nAlice-Pub über den öffentlichen Kanal: \" , Alpha )\n",
    " \n",
    "# Bob Key-Berechnung Beta = g^b mod p\n",
    "\n",
    "Beta = g**b%p\n",
    "print( \"Bob-Pub über den öffentlichen Kanal: \" , Beta )"
   ]
  },
  {
   "cell_type": "markdown",
   "metadata": {},
   "source": [
    "### Berechnen Sie nun den gemeinsamen Schlüssel:\n",
    "### $$ K_{a} = β^a~mod~p~=~(g^b~mod~p)^a~mod~p~~~~bzw.~K_{b}  = α^b~mod~p=~(g^a~mod~p)^b~mod~p$$"
   ]
  },
  {
   "cell_type": "code",
   "execution_count": 13,
   "metadata": {},
   "outputs": [
    {
     "name": "stdout",
     "output_type": "stream",
     "text": [
      "Alice Key: \t 9\n",
      "Bob Key: \t 9\n"
     ]
    }
   ],
   "source": [
    "# Alice berechnet Ka = Beta^a mod p\n",
    "\n",
    "Ka= Beta**a%p\n",
    "print( \"Alice Key: \\t\", Ka )\n",
    " \n",
    "# Bob berechnet Ka = Alpha^b mod p\n",
    "\n",
    "Kb = Alpha**b%p\n",
    "print( \"Bob Key: \\t\", Kb )"
   ]
  },
  {
   "cell_type": "markdown",
   "metadata": {},
   "source": [
    "##  \n",
    "## Beispiel mit zufällig generierten Nummern!\n",
    "### Import zufälliger Integer-Ziffern!\n",
    "## $$random.randint(a, b) ; Return~a~ random~ integer~ N~ such~ that~ a~ <=~ N~ <=~ b$$\n",
    "#### Vervollstaendigen Sie die Code-Fragmente! Die nachfolgenden Zellen gehören alle zusammen!\n",
    "####  \n"
   ]
  },
  {
   "cell_type": "code",
   "execution_count": 5,
   "metadata": {},
   "outputs": [
    {
     "name": "stdout",
     "output_type": "stream",
     "text": [
      "Primzahlbereich : 100\n"
     ]
    }
   ],
   "source": [
    "from random import randint                    # Integer Zufallszahlen \n",
    "\n",
    "max_prime =int (input(\"Primzahlbereich : \"))\n",
    "prime_test = False\n"
   ]
  },
  {
   "cell_type": "markdown",
   "metadata": {},
   "source": [
    "### Setzen Sie einen Primzahltest um!\n",
    "### In unserem Beispiel generieren bzw. berechnen und testen wir die Primzahl im Script selber. Es gibt natürlich auch fertige Module, die in C/C++ implementiert werden können. Dadurch ist eine Laufzeitverbesserung möglich. Leider sind diese Module nicht zu allen Python-Versionen kompatibel, so dass wir hier darauf verzichten. Als Beispiel sei hier genannt : \"primesieve\"\n",
    "\n",
    "#### Es sind nur kleine Modifizierungen notwendig!"
   ]
  },
  {
   "cell_type": "code",
   "execution_count": 6,
   "metadata": {},
   "outputs": [],
   "source": [
    "def test_prime(p):                            # Primzahltest\n",
    "    for num in range(2,p):\n",
    "        if(p%num) == 0:\n",
    "            return False\n",
    "        else:\n",
    "            if num == (p-1):\n",
    "                return True\n",
    "        \n"
   ]
  },
  {
   "cell_type": "markdown",
   "metadata": {},
   "source": [
    "### Finden der gemeinsamen Primzahl : p  und der gemeinsamen Basis : g!"
   ]
  },
  {
   "cell_type": "code",
   "execution_count": 7,
   "metadata": {},
   "outputs": [
    {
     "name": "stdout",
     "output_type": "stream",
     "text": [
      "False 46\n",
      "False 14\n",
      "False 6\n",
      "False 18\n",
      "False 74\n",
      "True 17\n",
      "p = 17, g = 4\n",
      "\n"
     ]
    }
   ],
   "source": [
    "while(prime_test == False):\n",
    "    p = randint(2, max_prime)\n",
    "    prime_test = test_prime(p)\n",
    "    print (prime_test,p)\n",
    "\n",
    "g = randint(2,p-1)\n",
    "while(g == p):\n",
    "    g = randint(2,p-1)\n",
    "print(\"p = {}, g = {}\\n\".format(p, g))"
   ]
  },
  {
   "cell_type": "markdown",
   "metadata": {},
   "source": [
    "### Wahl der geheimen Schlüssel für Alice bzw. Bob"
   ]
  },
  {
   "cell_type": "code",
   "execution_count": 8,
   "metadata": {},
   "outputs": [
    {
     "name": "stdout",
     "output_type": "stream",
     "text": [
      "a = 15, b = 15\n",
      "\n"
     ]
    }
   ],
   "source": [
    "a = randint(1, p-1)\n",
    "b = randint(1, p-1)\n",
    "print(\"a = {}, b = {}\\n\".format(a, b))"
   ]
  },
  {
   "cell_type": "markdown",
   "metadata": {},
   "source": [
    "### Berechnung der public Keys über die pow-Funktion, welche :\n",
    "## $$pow~(x,y)~=~x^y$$\n",
    "## $$pow~(x,y,z)~=x^y~mod~z$$\n",
    "### Diese kann direkt für die Berechnung \n",
    "### $$α  = g^a~mod~p~~~und~~~~β  = g^b~mod~p$$ genutzt werden!"
   ]
  },
  {
   "cell_type": "code",
   "execution_count": 9,
   "metadata": {},
   "outputs": [
    {
     "name": "stdout",
     "output_type": "stream",
     "text": [
      "Alpha = 13, Beta = 13\n",
      "\n"
     ]
    }
   ],
   "source": [
    "Alpha = pow(g,a)%p\n",
    "Beta = pow(g,b)%p\n",
    "print(\"Alpha = {}, Beta = {}\\n\".format(Alpha, Beta))"
   ]
  },
  {
   "cell_type": "markdown",
   "metadata": {},
   "source": [
    "### Berechnung des gemeinsamen und geheimen Schlüssels über die öffentlich ausgetauschten Parameter:\n",
    "## $$p,~ g,~Alpha,~Beta!$$"
   ]
  },
  {
   "cell_type": "code",
   "execution_count": 10,
   "metadata": {},
   "outputs": [
    {
     "name": "stdout",
     "output_type": "stream",
     "text": [
      "Alice und Bob generiern folgenden Key : Ka = 4, Kb = 4\n",
      "\n"
     ]
    }
   ],
   "source": [
    "Ka = pow(Beta,a) % p\n",
    "Kb = pow(Alpha,b) % p\n",
    "if Ka == Kb:\n",
    "    print(\"Alice und Bob generiern folgenden Key : Ka = {}, Kb = {}\\n\".format(Ka, Kb))"
   ]
  },
  {
   "cell_type": "code",
   "execution_count": null,
   "metadata": {},
   "outputs": [],
   "source": []
  }
 ],
 "metadata": {
  "kernelspec": {
   "display_name": "Python 3",
   "language": "python",
   "name": "python3"
  },
  "language_info": {
   "codemirror_mode": {
    "name": "ipython",
    "version": 3
   },
   "file_extension": ".py",
   "mimetype": "text/x-python",
   "name": "python",
   "nbconvert_exporter": "python",
   "pygments_lexer": "ipython3",
   "version": "3.8.8"
  }
 },
 "nbformat": 4,
 "nbformat_minor": 2
}
