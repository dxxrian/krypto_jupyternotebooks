{
 "cells": [
  {
   "cell_type": "markdown",
   "metadata": {},
   "source": [
    "![Kopf-1](images/Kopf-1.png)"
   ]
  },
  {
   "cell_type": "markdown",
   "metadata": {
    "hideCode": true
   },
   "source": [
    "# Lab: Symmetrische Verschluesselung\n",
    "![Pyth](images/Pyth-Wire.png)\n"
   ]
  },
  {
   "cell_type": "markdown",
   "metadata": {},
   "source": [
    "## In diesem Notebook stellen wir Ihnen die programmtechnische Umsetzung der  klassischen Verschluesselungen an Hand der einer einfachen Transpositions-Chiffre vor. "
   ]
  },
  {
   "cell_type": "markdown",
   "metadata": {
    "hideCode": true,
    "hidePrompt": true
   },
   "source": [
    "## Using Python and Wireshark\n"
   ]
  },
  {
   "cell_type": "markdown",
   "metadata": {
    "hideCode": true,
    "hidePrompt": true
   },
   "source": [
    "## Voraussetzungen\n",
    "* ### Python-Scriptvorschlaege\n",
    "* ### Wireshark\n",
    "* ### Wiresharkfile Transpo.pcapng\n",
    "* ### Python (AnacondaFramework, Jupyter-Notebook)\n",
    "\n",
    "### Bitte arbeiten Sie alle Codezellen entsprechend einzeln ab! Benutzen Sie das \"Run\" (oben)! "
   ]
  },
  {
   "cell_type": "markdown",
   "metadata": {},
   "source": [
    "## Arbeitsschritte\n"
   ]
  },
  {
   "cell_type": "markdown",
   "metadata": {},
   "source": [
    "## Step 1: \n",
    "### Modifizieren Sie unseren Transpositionsvorschlag so, dass das Script lauffähig ist.\n",
    "### Demonstrieren Sie die Abarbeitung, welche das Funktionsverhalten nach folgendem Bild erklärt!\n"
   ]
  },
  {
   "cell_type": "markdown",
   "metadata": {},
   "source": [
    "![Transpo](images/Spalte.png)\n",
    "## $$ Bild:~ Spalte~in~Zeile $$"
   ]
  },
  {
   "cell_type": "markdown",
   "metadata": {},
   "source": [
    "### Step 2:\n",
    "### Verschlüsseln Sie dann folgenden Text: \n",
    "### $$\"Dieses~Beispiel~ist~natürlich~auch~prüfungsrelevant!\"$$"
   ]
  },
  {
   "cell_type": "code",
   "execution_count": 25,
   "metadata": {},
   "outputs": [
    {
     "name": "stdout",
     "output_type": "stream",
     "text": [
      "Nachricht: keyboardinterrupt\n",
      "Lange: 17\n",
      "Key bitte: 5\n",
      "Spalte in Zeile: ['k']\n",
      "Spalte in Zeile: ['k', 'a']\n",
      "Spalte in Zeile: ['k', 'a', 't']\n",
      "Spalte in Zeile: ['k', 'a', 't', 'p']\n",
      "Spalte in Zeile: ['k', 'a', 't', 'p', 'e']\n",
      "Spalte in Zeile: ['k', 'a', 't', 'p', 'e', 'r']\n",
      "Spalte in Zeile: ['k', 'a', 't', 'p', 'e', 'r', 'e']\n",
      "Spalte in Zeile: ['k', 'a', 't', 'p', 'e', 'r', 'e', 't']\n",
      "Spalte in Zeile: ['k', 'a', 't', 'p', 'e', 'r', 'e', 't', 'y']\n",
      "Spalte in Zeile: ['k', 'a', 't', 'p', 'e', 'r', 'e', 't', 'y', 'd']\n",
      "Spalte in Zeile: ['k', 'a', 't', 'p', 'e', 'r', 'e', 't', 'y', 'd', 'r']\n",
      "Spalte in Zeile: ['k', 'a', 't', 'p', 'e', 'r', 'e', 't', 'y', 'd', 'r', 'b']\n",
      "Spalte in Zeile: ['k', 'a', 't', 'p', 'e', 'r', 'e', 't', 'y', 'd', 'r', 'b', 'i']\n",
      "Spalte in Zeile: ['k', 'a', 't', 'p', 'e', 'r', 'e', 't', 'y', 'd', 'r', 'b', 'i', 'r']\n",
      "Spalte in Zeile: ['k', 'a', 't', 'p', 'e', 'r', 'e', 't', 'y', 'd', 'r', 'b', 'i', 'r', 'o']\n",
      "Spalte in Zeile: ['k', 'a', 't', 'p', 'e', 'r', 'e', 't', 'y', 'd', 'r', 'b', 'i', 'r', 'o', 'n']\n",
      "Spalte in Zeile: ['k', 'a', 't', 'p', 'e', 'r', 'e', 't', 'y', 'd', 'r', 'b', 'i', 'r', 'o', 'n', 'u']\n",
      "Ihre verschlüsselte Nachricht:  katperetydrbironu\n",
      "Encrypttextfilename:tt\n"
     ]
    }
   ],
   "source": [
    "def encrypt(msg, key):\n",
    "    index = 0\n",
    "    count = 0\n",
    "    cipher = []\n",
    "\n",
    "    for letter in msg:\n",
    "        cipher.append(msg[index])\n",
    "        index += key\n",
    "        print(\"Spalte in Zeile:\",cipher)\n",
    "        if index > len(msg) - 1:\n",
    "            count += 1\n",
    "            index = count\n",
    "    return ''.join(cipher)\n",
    "\n",
    "msg = input(\"Nachricht: \")\n",
    "print(\"Lange:\",len(msg))\n",
    "key = int (input(\"Key bitte: \"))\n",
    "enmsg = encrypt(msg,key)\n",
    "print (\"Ihre verschlüsselte Nachricht: \",enmsg)\n",
    "message_file = input(\"Encrypttextfilename:\")                  #Ihr Filename\n",
    "mes_file= open (message_file,\"w\")\n",
    "mes_file.write(enmsg)\n",
    "mes_file.close()\n",
    "\n"
   ]
  },
  {
   "cell_type": "markdown",
   "metadata": {},
   "source": [
    "## Step 3: \n",
    "### Modifizieren Sie unseren Transpositionsvorschlag (decrypt) so, dass das Script lauffähig ist."
   ]
  },
  {
   "cell_type": "code",
   "execution_count": 37,
   "metadata": {},
   "outputs": [
    {
     "name": "stdout",
     "output_type": "stream",
     "text": [
      "Key bitte: 6\n",
      "Manuelle Nachricht = 1 für Datei = 2 : 1\n",
      "Ihre verschlüsselte Nachricht bitte: LezaiulnWaabuntne irbursidkarkon po tue!rgTonSissu rs eo h\n",
      "Ihre entschlüsselte Nachricht:  Laboruebung zur Transposition und Selektion aus Wireshark!\n"
     ]
    }
   ],
   "source": [
    "def decrypt(cip_msg, key):\n",
    "    msg = [''] * len(cip_msg)\n",
    "    index = 0\n",
    "    count = 0\n",
    "\n",
    "    for letter in cip_msg:\n",
    "        msg[index] = letter\n",
    "        #print(msg[index])\n",
    "        index += key\n",
    "        if index > len(cip_msg) - 1:\n",
    "            count += 1\n",
    "            index = count\n",
    "    return ''.join(msg)\n",
    "\n",
    "key = int (input(\"Key bitte: \"))\n",
    "n = int(input(\"Manuelle Nachricht = 1 für Datei = 2 : \"))\n",
    "\n",
    "if n == 1:\n",
    "    msg= input(\"Ihre verschlüsselte Nachricht bitte: \")\n",
    "    print (\"Ihre entschlüsselte Nachricht: \",decrypt(msg,key))\n",
    "\n",
    "else:    \n",
    "    message_file = input(\"Encrypttextfilename:\")                  #Ihr Filename\n",
    "    mes_file= open (message_file,\"r\")\n",
    "    msg = mes_file.read()\n",
    "    mes_file.close()\n",
    "    print (\"Ihre entschlüsselte Nachricht: \",decrypt(msg,key))\n",
    "        \n",
    "\n"
   ]
  },
  {
   "cell_type": "markdown",
   "metadata": {},
   "source": [
    "## Step 4:\n",
    "### Entschlüsseln Sie die vorherige Nachricht!\n"
   ]
  },
  {
   "cell_type": "markdown",
   "metadata": {},
   "source": [
    "## Step 5: Analyse von Daten aus einer Wiresharkdatei!\n",
    "### Mit der nächsten Zelle starten Sie Wireshark mit dem zu analysierenden File (Transp.pcapng).\n",
    "### *Modifizieren Sie bitte die Pfadangabe im Aufruf!*\n",
    "### *Nach Ihrer Wiresharkanalyse beenden Sie bitte Wireshark!*"
   ]
  },
  {
   "cell_type": "code",
   "execution_count": null,
   "metadata": {},
   "outputs": [],
   "source": [
    "%cd \"C:\\Program Files\\Wireshark\" \n",
    "# Modifizieren Sie die Pfadangabe entsprechend !!\n",
    "!! wireshark -r \"C:\\Users\\Uwe\\Documents\\Ausbildung\\Transp.pcapng\"\n",
    "%cd \"C:\\Users\\Uwe\\Documents\\Ausbildung\\....\"\n",
    "#print (\"Wireshark sollte mit der Datei laufen?\")\n"
   ]
  },
  {
   "cell_type": "markdown",
   "metadata": {},
   "source": [
    "### Entschluesseln Sie die selektierte Wiresharkdatei in Ihrem decrypt-script.  Der Schlüssel liegt im einstelligen Bereich!"
   ]
  }
 ],
 "metadata": {
  "kernelspec": {
   "display_name": "Python 3",
   "language": "python",
   "name": "python3"
  },
  "language_info": {
   "codemirror_mode": {
    "name": "ipython",
    "version": 3
   },
   "file_extension": ".py",
   "mimetype": "text/x-python",
   "name": "python",
   "nbconvert_exporter": "python",
   "pygments_lexer": "ipython3",
   "version": "3.8.8"
  }
 },
 "nbformat": 4,
 "nbformat_minor": 2
}
