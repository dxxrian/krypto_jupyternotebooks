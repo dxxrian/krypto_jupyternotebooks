{
 "cells": [
  {
   "cell_type": "markdown",
   "metadata": {},
   "source": [
    "![Kopf-1](images/Kopf-1.png)"
   ]
  },
  {
   "cell_type": "markdown",
   "metadata": {},
   "source": [
    "# Rechnen im endlichen Zahlenkörper\n",
    "## Lab: Bestimmung \"Multiplikatives Inverses Element\"  ![Klein-Py](images/klein-python.png)\n",
    "### Was ist das?\n",
    "### Das multiplikativ inverse einer Zahl a ist die Zahl, die mit a multipliziert 1 ergibt. Es ist also der Kehrwert von a. \n",
    "## $$a^{-1}* a = a * a^{-1}= 1 $$ \n",
    "### Bezogen auf eine Gruppe, sprich modulo n:\n",
    "## $$a\\odot b=1~mod~ n$$\n",
    "### Beispiele: \n",
    "### Im Modul 15 soll das  multiplikativ inverse Element von 2 bestimmt werden!\n",
    "## $$2*x\\equiv 1~mod~15~~~~2*8=1~mod~15$$\n",
    "### Im Modul 24 soll das  multiplikativ inverse Element von 5 bestimmt werden!\n",
    "## $$5*x\\equiv 1~mod~24 ~~~5*5=1~mod~24$$\n",
    "### Ein weiteres Bespiel zeigt notwendige Randbedingungen, so soll im Modul 24 das  multiplikativ inverse Element bestimmt werden.\n",
    "## $$4*x\\equiv 1~mod~24~~~4*x= 1~mod~24$$ \n",
    "### Kein inverses Element für 4 im Modul 24, d.h. 24 und 4 sind nicht teilerfremd! $ggt(24,4)=4$\n",
    "### Es gilt folgende Bedingung :\n",
    "## $$\\color{red}{ ggt~(n,a)=1}$$\n"
   ]
  },
  {
   "cell_type": "markdown",
   "metadata": {},
   "source": [
    "## Aufgabe 1\n",
    "### Entwickeln Sie aus dem folgenden Pseudo-Code und unter Beachtung der notwendigen Randbedingungen ein Pythonscript zur Berechnung des \"Multiplikativ Inversen Elementes\"!\n",
    "#### Die Variablen phi und e stehen hier schon exemplarische für die Berechnungen der RSA-Keys, phi entspricht der Eulerschen Funktion!\n"
   ]
  },
  {
   "cell_type": "markdown",
   "metadata": {},
   "source": [
    "### Berechung bzw. Bedingung für das:  $\\color{red}{ ggt~(phi,a)=1}, ~~~~ a^{-1}* a = a * a^{-1}= 1,~~~a\\odot b=1~mod~ phi$"
   ]
  },
  {
   "cell_type": "markdown",
   "metadata": {},
   "source": [
    "## $$def~inv\\_element~(phi, e):~ a~=~a~mod~phi;in~range(1,phi);~if~(a*x~mod~phi==~1: Rückgabe~x$$"
   ]
  },
  {
   "cell_type": "markdown",
   "metadata": {},
   "source": [
    "### Fügen Sie Ihr Script in die nachfolgende Zelle ein!\n",
    "### Benutzen Sie bitte folgende Zahlen : phi = 99380952  und e = 419"
   ]
  },
  {
   "cell_type": "code",
   "execution_count": null,
   "metadata": {},
   "outputs": [],
   "source": []
  },
  {
   "cell_type": "code",
   "execution_count": 3,
   "metadata": {},
   "outputs": [
    {
     "name": "stdout",
     "output_type": "stream",
     "text": [
      "Bitte phi: 24\n",
      "Bitte e: 47\n",
      "\n",
      "Inverses Element im Module 24,für die ist 47  : 23\n",
      "5.205022096633911\n"
     ]
    }
   ],
   "source": [
    "import math\n",
    "import time\n",
    "start = time.time()\n",
    "def inv_element(phi,e):\n",
    "    if math.gcd(phi,e)>1:\n",
    "        return (\"nicht vorhanden, da phi und e nicht teilerfremd!\")\n",
    "    \n",
    "    e = e % phi\n",
    "    for x in range (1,phi):\n",
    "        if (e * x % phi == 1):\n",
    "            return x\n",
    "    return 1\n",
    "\n",
    "\n",
    "phi = int (input (\"Bitte phi: \"))\n",
    "e = int (input (\"Bitte e: \"))\n",
    "\n",
    "print (\"\\nInverses Element im Module {},für die ist {} \".format(phi,e),\":\",inv_element(phi,e))\n",
    "end = time.time()\n",
    "print(end - start)"
   ]
  },
  {
   "cell_type": "markdown",
   "metadata": {},
   "source": [
    "## Aufgabe 2\n",
    "### Nachfolgende Scripte zeigen kurze Programme  zur Berechnung, es werden fertige Funktion  aus unterschiedlichen Modulen genutzt.\n",
    "### Die importierten Funktionen können durch folgende Pseudo-Codes beschrieben werden.\n",
    "### Aus der Lib gimpy2 :\n",
    "## $$\n",
    "invert(x, m)~returns~y~such~that~ x * y~==~ 1~ modulo~ m,~ or~ 0~ if ~no~ such~ y~exists$$\n",
    "\n",
    "### Aus der Lib : symphy mod_inverse(a,m):\n",
    "#### \"Return the number c such that, (a * c) = 1 (mod m) where c has the same sign as m. If no such value exists, a ValueError is raised.\"\n",
    "### Fangen Sie auftretente Fehlemeldungen der fertigen Funktionen userfreundlich ab!\n"
   ]
  },
  {
   "cell_type": "markdown",
   "metadata": {},
   "source": [
    "### Entwickeln Sie Laufzeitmessungen und vergleichen SIe Ihr Sricpt mit den nachfolgenden fertigen Funktionen! Bewerten Sie die Abarbeitungsgeschwindigkeiten. \n",
    "### Zur Laufzeitmessung importieren Sie \"timeit\". Definieren Sie entsprechende Timer an den richtigen Positionen in den Scripten."
   ]
  },
  {
   "cell_type": "code",
   "execution_count": 15,
   "metadata": {},
   "outputs": [
    {
     "name": "stdout",
     "output_type": "stream",
     "text": [
      "Zahlen sind nicht teilerfremd, ggt ist: ,2,Kein inverses mult. Element\n",
      "0.0\n"
     ]
    }
   ],
   "source": [
    "import gmpy2\n",
    "import math\n",
    "import time\n",
    "start = time.time()\n",
    "phi = 22\n",
    "e = 420\n",
    "\n",
    "if math.gcd(phi,e)>1:\n",
    "    print (\"Zahlen sind nicht teilerfremd, ggt ist: ,{},Kein inverses mult. Element\".format(math.gcd(phi,e)))  ####Fehlererklärung\n",
    "else:                          \n",
    "    print (\"\\nInverses Element im Module {},für die {} \".format(phi,e),\"ist die\",gmpy2.invert(e,phi))\n",
    "end = time.time()\n",
    "print(end - start)"
   ]
  },
  {
   "cell_type": "code",
   "execution_count": 16,
   "metadata": {},
   "outputs": [
    {
     "name": "stdout",
     "output_type": "stream",
     "text": [
      "Invers zu e in phi =  60719627\n",
      "0.000997304916381836\n"
     ]
    }
   ],
   "source": [
    "from sympy import mod_inverse\n",
    "import time\n",
    "start = time.time()\n",
    "\n",
    "phi = 99380952\n",
    "e = 419\n",
    "\n",
    "if math.gcd(phi,e)>1:\n",
    "    print (\"Zahlen sind nicht teilerfremd, ggt ist: ,{},Kein inverses mult. Element\".format(math.gcd(phi,e)))  ####Fehlererklärung\n",
    "else:                           \n",
    "    print(\"Invers zu e in phi = \",mod_inverse(e, phi))\n",
    "\n",
    "end = time.time()\n",
    "print(end - start)"
   ]
  },
  {
   "cell_type": "markdown",
   "metadata": {},
   "source": [
    "### Aufgabe 3\n",
    "#### Entwickeln Sie hier Ihre Laufzeitvergleiche der drei unterschiedlichen Scripte!"
   ]
  },
  {
   "cell_type": "code",
   "execution_count": null,
   "metadata": {},
   "outputs": [],
   "source": [
    "#1: 11.73105788230896\n",
    "#2: 0.0009932518005371094\n",
    "#3: 0.0009982585906982422"
   ]
  }
 ],
 "metadata": {
  "kernelspec": {
   "display_name": "Python 3",
   "language": "python",
   "name": "python3"
  },
  "language_info": {
   "codemirror_mode": {
    "name": "ipython",
    "version": 3
   },
   "file_extension": ".py",
   "mimetype": "text/x-python",
   "name": "python",
   "nbconvert_exporter": "python",
   "pygments_lexer": "ipython3",
   "version": "3.8.8"
  }
 },
 "nbformat": 4,
 "nbformat_minor": 2
}
