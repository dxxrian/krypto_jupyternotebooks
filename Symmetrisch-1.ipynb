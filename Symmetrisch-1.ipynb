{
 "cells": [
  {
   "cell_type": "markdown",
   "metadata": {},
   "source": [
    "![Kopf-1](images/Kopf-1.png)"
   ]
  },
  {
   "cell_type": "markdown",
   "metadata": {
    "hideCode": true
   },
   "source": [
    "# Lab: Symmetrische Verschluesselung\n",
    "![Pyth](images/Pyth-Wire.png)\n"
   ]
  },
  {
   "cell_type": "markdown",
   "metadata": {},
   "source": [
    "## In diesem Notebook stellen wir Ihnen die programmtechnische Umsetzung der  klassischen Verschluesselungen an Hand der Caesar-Chiffre vor. "
   ]
  },
  {
   "cell_type": "markdown",
   "metadata": {
    "hideCode": true,
    "hidePrompt": true
   },
   "source": [
    "## Using Python and Wireshark\n"
   ]
  },
  {
   "cell_type": "markdown",
   "metadata": {
    "hideCode": true,
    "hidePrompt": true
   },
   "source": [
    "## Voraussetzungen\n",
    "* ### Python-Scriptvorschlaege\n",
    "* ### Wireshark\n",
    "* ### Wiresharkfile Known-Plain.pcapng\n",
    "* ### Python (AnacondaFramework, Jupyter-Notebook)\n",
    "\n",
    "### Bitte arbeiten Sie alle Codezellen entsprechend einzeln ab! Benutzen Sie das \"Run\" (oben)! "
   ]
  },
  {
   "cell_type": "markdown",
   "metadata": {},
   "source": [
    "## Arbeitsschritte\n"
   ]
  },
  {
   "cell_type": "markdown",
   "metadata": {},
   "source": [
    "## Step 1: \n",
    "## Modifizierung bzw. Entwicklung einer eigenen Caesar-Verschluesselung!\n",
    "### In unserem vorgefertigten Beispiel verwenden wir die Funktionen:\n",
    "## $$string.maketrans() ~~und~~ string.translate()$$\n",
    "\n",
    "### Mit diesen Funktionen koennen wir einzelne Zeichen im String ersetzen! Dabei wird eine Uebergabe- bzw. Uebersetzungstabelle, in unserem Beispiel die Verschiebungetabelle, im ASCII-Kode erstellt. Das bedeutet, es werden die dezimalen Werte des Orginal-Zeichens mit den verschobenen Zeichenwerten \"gemapt\". Es entsteht ein Python-dictionary {key:value}.\n",
    "## $$ string.maketrans(x,y)$$ \n",
    "### Diese Funktion stetzt bei zwei Argumenten voraus, dass sie die gleiche Laenge haben. Jedes Zeichen wird an der selben Stelle im Alphabet bzw. Zeichenvorrat ersetzt. Die Funktion $~~string.translate() ~~ $uebersetzt zurueck!\n",
    "\n",
    "### Erweitern Sie das Script um die Ausgabe in eine Datei, so dass wir in den nachfolgenden Entschluesselungen die Dateien mit unseren Daten einlesen können."
   ]
  },
  {
   "cell_type": "markdown",
   "metadata": {},
   "source": [
    "## Dateioperationen in Python können wie folgt programmiert:\n",
    "* ### $ Myfile = open ('keyfile.txt','w')~~~~~~~mit~den~Optionen~w~(write)~und~r(read)$    \n",
    "* ### $ Myfile.write (str(keys))$\n",
    "* ### $ Myfile.close()~~~~~~~~~~~~~~~~~~~~~~~~~~~~~~~~~~~~~~nach~den~Operationen~muss~die~Datei~geschlossen~werden!$\n",
    "* ### $ na = Myfile.read()$"
   ]
  },
  {
   "cell_type": "code",
   "execution_count": 2,
   "metadata": {},
   "outputs": [
    {
     "name": "stdout",
     "output_type": "stream",
     "text": [
      "Ihre Nachricht bitte :Abc\n",
      "Ihr Schlüssel :2\n",
      "Ihre verschlüsselte Nachricht ist : Cde\n"
     ]
    }
   ],
   "source": [
    "# unser Scriptvorschlag\n",
    "\n",
    "import string\n",
    "\n",
    "def caesar(na,k,alpha = string.ascii_letters):\n",
    "    verschiebung = alpha[k:] + alpha[:k]\n",
    "    na = str(na)\n",
    "    dic = na.maketrans(alpha,verschiebung)\n",
    "    \n",
    "    return (na.translate(dic))\n",
    "\n",
    "\n",
    "\n",
    "nachricht = input (\"Ihre Nachricht bitte :\")\n",
    "key = int(input(\"Ihr Schlüssel :\"))\n",
    "\n",
    "# Verschlüsselungs-Aufruf und Ausgabe\n",
    "\n",
    "print (\"Ihre verschlüsselte Nachricht ist :\", caesar(nachricht,key))\n",
    "\n",
    "\n",
    "## Dateioperation\n",
    "## Schreiben klar\n",
    "## Schreiben encrypt\n"
   ]
  },
  {
   "cell_type": "markdown",
   "metadata": {},
   "source": [
    "### Entwickeln Sie aus dem Verschluesselungs-Script die Entschluesselung und wenden Sie dieses dann entsprechend für Ihre Texte bzw. Dateien an!\n",
    "#### Hinweis:  Es sind nur minimale Aenderungen notwendig! "
   ]
  },
  {
   "cell_type": "code",
   "execution_count": 5,
   "metadata": {},
   "outputs": [
    {
     "name": "stdout",
     "output_type": "stream",
     "text": [
      "Ihre Nachricht bitte :Bcd\n",
      "Ihr Schlüssel :2\n",
      "Ihre entschlüsselte Nachricht ist : zab\n"
     ]
    }
   ],
   "source": [
    "import string\n",
    "\n",
    "def caesar(na,k,alpha = string.ascii_letters):\n",
    "    verschiebung = alpha[-k:]+alpha[:-k]\n",
    "    na = str(na)\n",
    "    dic = na.maketrans(alpha,verschiebung)\n",
    "    \n",
    "    return (na.translate(dic))\n",
    "\n",
    "\n",
    "\n",
    "nachricht = input (\"Ihre Nachricht bitte :\")        # bzw. Dateioperation Einlesen aus encrypt Datei\n",
    "key = int(input(\"Ihr Schlüssel :\"))\n",
    "\n",
    "# Verschlüsselungs-Aufruf und Ausgabe\n",
    "\n",
    "print (\"Ihre entschlüsselte Nachricht ist :\", caesar(nachricht,key))\n"
   ]
  },
  {
   "cell_type": "markdown",
   "metadata": {},
   "source": [
    "## Step 2: Analyse von Daten aus einer Wiresharkdatei!\n",
    "### Mit der naechsten Zelle starten Sie Wireshark mit dem zu analysierenden File. \n",
    "### *Modifizieren Sie bitte die Pfadangabe im Aufruf!*\n",
    "### *Nach Ihrer Wiresharkanalyse beenden Sie bitte Wireshark!*"
   ]
  },
  {
   "cell_type": "code",
   "execution_count": null,
   "metadata": {},
   "outputs": [
    {
     "name": "stdout",
     "output_type": "stream",
     "text": [
      "C:\\Users\\dgohd\\Software\\Wireshark\n"
     ]
    }
   ],
   "source": [
    "%cd \"C:\\Users\\dgohd\\Software\\Wireshark\" \n",
    "# Modifizieren Sie die Pfadangabe entsprechend !!\n",
    "!! wireshark -r \"C:\\Users\\dgohd\\Documents\\Studium\\Kryptografie\\Sym-Caesar\\Known-Plain.pcapng\"\n",
    "#print (\"Wireshark sollte mit der Datei laufen?\")"
   ]
  },
  {
   "cell_type": "markdown",
   "metadata": {},
   "source": [
    "### Analysieren Sie das Wireshark-File \"Kown-Plain\" so, dass Sie den Klartex und den verschluesselten Text separieren! Speichern Sie die entsprechenden Informationen in zwei separate Dateien ab! "
   ]
  },
  {
   "cell_type": "markdown",
   "metadata": {},
   "source": [
    "### **Die nachfolgende Zelle muß evtuell so modifiziert werden, dass der Pfad zum Ordner Ihrer separierten Dateien aus der Wiresharkanalyse gesetzt wird.** \n",
    "### Fuegen Sie ein \"Magic-Kommando\" ein, welches den Inhalt Ihres Verzeichnisses anzeigt, so dass Sie sicher im richtigen Ordner sind!  \n",
    "#### *Hinweis: Ihr Betriebssystem im Labor (H16 / 218) ist Win10!*"
   ]
  },
  {
   "cell_type": "code",
   "execution_count": null,
   "metadata": {},
   "outputs": [],
   "source": [
    "%cd \"C:\\Users\\Uwe\\Documents\\Desktop\\Jupyter-Note\\\"\"\n",
    "!dir"
   ]
  },
  {
   "cell_type": "markdown",
   "metadata": {
    "hideCode": true
   },
   "source": [
    "## Step 3:\n",
    "### Bestimmen Sie an Hand Ihrer Analyse den Verschiebeschluessel!\n",
    "### Tragen Sie diesen in nachfolgende Zelle ein! Decodieren Sie das verschluesselte File!\n",
    "#### -------------------------------------------------------------------------------------------------------------------------------------------"
   ]
  },
  {
   "cell_type": "markdown",
   "metadata": {},
   "source": [
    "###Shift by 6\n",
    "#### ------------------------------------------------------------------------------------------------------------------------------------------\n",
    "\n",
    "### Nach dem Sie nun den Key ermittelt haben, dokumentieren Sie den verschluesselten Text und Ihre entschluesslte Nachricht, bzw. benutzen Sie Ihre Scripte zur Ver- bzw. Entschluesselung!"
   ]
  },
  {
   "cell_type": "code",
   "execution_count": 3,
   "metadata": {},
   "outputs": [
    {
     "name": "stdout",
     "output_type": "stream",
     "text": [
      "Filename:encrypted.txt\n",
      "Verschiebecode bitte:6\n",
      "Das ist ein unverschluesselter Text, der im Wireshark automatisch decodiert wird.\n"
     ]
    }
   ],
   "source": [
    "# Entschlüsselung aus Datei\n",
    "#%cd \"C:\\Users\\dgohd\\Documents\\Studium\\Kryptografie\\Sym-Caesar\\encrypted.txt\"  #Setzen des Verzeichnisses\n",
    "#! dir                                            #Verzeichniskonrolle\n",
    "import string\n",
    "\n",
    "#script zur Verschlüssellung' muss zum Entschlüsseln modifiziert werden\n",
    "\n",
    "def caesar(na,k,alpha = string.ascii_letters):\n",
    "    verschiebung = alpha[-k:]+alpha[:-k]\n",
    "    na = str(na)\n",
    "    dic = na.maketrans(alpha,verschiebung)\n",
    "    \n",
    "    return (na.translate(dic))\n",
    "\n",
    "message_file = input(\"Filename:\")                  #Ihr Filename\n",
    "mes_1 = open (message_file,\"r\")\n",
    "message = mes_1.read()\n",
    "mes_1.close()\n",
    "schlüssel = int(input(\"Verschiebecode bitte:\"))\n",
    "print(caesar(message, schlüssel))"
   ]
  },
  {
   "cell_type": "code",
   "execution_count": null,
   "metadata": {},
   "outputs": [],
   "source": []
  }
 ],
 "metadata": {
  "kernelspec": {
   "display_name": "Python 3",
   "language": "python",
   "name": "python3"
  },
  "language_info": {
   "codemirror_mode": {
    "name": "ipython",
    "version": 3
   },
   "file_extension": ".py",
   "mimetype": "text/x-python",
   "name": "python",
   "nbconvert_exporter": "python",
   "pygments_lexer": "ipython3",
   "version": "3.8.8"
  }
 },
 "nbformat": 4,
 "nbformat_minor": 2
}
