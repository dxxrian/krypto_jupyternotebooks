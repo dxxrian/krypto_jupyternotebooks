{
 "cells": [
  {
   "cell_type": "markdown",
   "metadata": {},
   "source": [
    "![Kopf-1](images/Kopf-1.png)"
   ]
  },
  {
   "cell_type": "markdown",
   "metadata": {},
   "source": [
    "# Rechnen im endlichen Zahlenkörper\n",
    "## Lab: Bestimmung \"Multiplikatives Inverses Element\" und die Berechnung des \"Größten Gemeinsamen Teilers\" ![Klein-Py](images/klein-python.png)\n",
    "### Was ist das?\n",
    "### Das multiplikativ inverse einer Zahl a ist die Zahl, die mit a multipliziert 1 ergibt. Es ist also der Kehrwert von a. \n",
    "## $$a^{-1}* a = a * a^{-1}= 1 $$ \n",
    "### Bezogen auf eine Gruppe, sprich modulo n:\n",
    "## $$a\\odot b=1~mod~ n$$\n",
    "### Beispiele: \n",
    "### Im Modul 15 soll das  multiplikativ inverse Element von 2 bestimmt werden!\n",
    "## $$2*x\\equiv 1~mod~15~~~~2*8=1~mod~15$$\n",
    "### Im Modul 24 soll das  multiplikativ inverse Element von 5 bestimmt werden!\n",
    "## $$5*x\\equiv 1~mod~24 ~~~5*5=1~mod~24$$\n",
    "### Ein weiteres Bespiel zeigt notwendige Randbedingungen, so soll im Modul 24 das  multiplikativ inverse Element bestimmt werden.\n",
    "## $$4*x\\equiv 1~mod~24~~~4*x= 1~mod~24$$ \n",
    "### Kein inverses Element für 4 im Modul 24, d.h. 24 und 4 sind nicht teilerfremd! $ggt(24,4)=4$\n",
    "### Es gilt folgende Bedingung :\n",
    "## $$\\color{red}{ ggt~(n,a)=1}$$\n"
   ]
  },
  {
   "cell_type": "markdown",
   "metadata": {},
   "source": [
    "### Der größte gemeinsame Teiler ist die größte natürliche Zahl $ggT~(n,a)$, durch die sich zwei ganze Zahlen ohne Rest teilen lassen.\n"
   ]
  },
  {
   "cell_type": "markdown",
   "metadata": {},
   "source": [
    "# ggt, gcd \n",
    "\n",
    "### Eine effiziente Berechnung des größten gemeinsamen Teilers ggT  bzw. gcd (greatest common divisor (a, b) zweier gegebener ganzer Zahlen a und b ist alles andere als eine einfache Aufgabe. Heutige Anwendungen aus den digitalen Verarbeitungen und selbstverständlich aus der Kryptographie wenden die Berechnung des ggt an. Standard-Module und Bibliotheken in vielen  Programmiersprachen haben den Algorithmus in fertigen Funktionen verfügbar.\n",
    "\n",
    "### So ist z.B. der größte gemeinsame Teiler zwischen den Zahlen: a = 55 und b = 11 die Zahl i = 11, da sich die Zahl a und die Zahl b jeweils durch die Zahl i = 11 ohne Rest teilen lassen. Folglich muss gelten : \n",
    "## $$ ggt~(55,11)~=~11 $$\n",
    "\n",
    "### Allgemein kann die Bestimmung des ggt durch unterschiedliche unstrukturierte und strukturierte Berechnungen erfolgen. Dazu wurde von Euklid ein Algorithmus entwickelt, der den ggt aus der Primzahlzerlegung berechnet.\n",
    "### In dem Buch \"Die Elemente\" wird der Agorithmus so beschrieben: \n",
    "\n",
    "### <font color=red>\"Wenn CD aber AB nicht misst, und man nimmt bei AB, CD abwechselnd immer das kleinere vom größeren weg, dann muss (schließlich) eine Zahl übrig bleiben, die die vorangehende misst.\"</font>\n",
    "### Euklid bezog seine Berechnung auf Längen bzw. Streckenmaße. Folgende Grafik zeigt eine Art von Pseudocode!\n",
    "![Euklid](images/Euklid.png)\n",
    "### Bild 1 **Struktorgramm des Euklidischen Algorithmus**\n"
   ]
  },
  {
   "cell_type": "markdown",
   "metadata": {},
   "source": [
    "## Aufgabe 1\n",
    "### Entwickeln Sie aus diesem Struktogramm einen entsprechenden Python-Code, tragen Sie diesen in die nachfolgende aktive Zelle ein und berechen dann folgende Teilerverhältnisse! Bzw. modifiziern  den nachfolgenden Code, nur syntaktisch.\n",
    "## $$ggt(55,11)~~~und~~~ggt(999,234)$$"
   ]
  },
  {
   "cell_type": "code",
   "execution_count": 9,
   "metadata": {},
   "outputs": [
    {
     "name": "stdout",
     "output_type": "stream",
     "text": [
      "Bitte Zahl a: 999\n",
      "Bitte Zahl b: 234\n",
      "ggt( 999 , 234 ) ist : 9\n",
      "Die Berechnung des ggt() dauerte : 0.0007785000000239961\n"
     ]
    }
   ],
   "source": [
    "import timeit\n",
    "\n",
    "def ggt(a,b):\n",
    "    while a>0 and b>0:\n",
    "        if a > b:\n",
    "            a = a - b\n",
    "        else:\n",
    "            b = b - a\n",
    "    if b==0:\n",
    "        return a\n",
    "    else:\n",
    "        return b\n",
    "    \n",
    "a = int (input(\"Bitte Zahl a: \"))\n",
    "b = int (input(\"Bitte Zahl b: \"))  \n",
    "start = timeit.default_timer()\n",
    "print (\"ggt(\",a,\",\",b,\") ist :\",ggt(a,b))\n",
    "print (\"Die Berechnung des ggt() dauerte :\", timeit.default_timer()-start)"
   ]
  },
  {
   "cell_type": "markdown",
   "metadata": {},
   "source": [
    "## Aufgabe 2\n",
    "#### Entwickeln Sie aus den Code-Fragmenten, über eine rekursive Schleife, die  Berechnung des ggt(). Für eine größere Anzahl von Schleifendurchläufen wird die Funktion  sys.setrecursionlimit (x) benötigt. \n",
    "Diese Methode wird verwendet, um die maximale Tiefe des Python-Interpreter-Stacks auf das erforderliche Limit einzustellen. Diese Begrenzung verhindert, dass ein Programm in die unendliche Rekursion gelangt, andernfalls führt die unendliche Rekursion zu einem Überlauf des C-Stacks und zum Absturz des Pythons.\n"
   ]
  },
  {
   "cell_type": "code",
   "execution_count": 1,
   "metadata": {},
   "outputs": [
    {
     "name": "stdout",
     "output_type": "stream",
     "text": [
      "\n",
      "Berechnung ggt\n",
      "Bitte n: 567\n",
      "Bitte e: 987\n",
      "\n",
      "Berechnung0 von ggt von 567 und 987 ist die 21 \n",
      "Die Berechnung des ggt() dauerte : 0.00014909999998735657\n"
     ]
    }
   ],
   "source": [
    "import sys\n",
    "import timeit\n",
    "\n",
    "sys.setrecursionlimit(2000)\n",
    "\n",
    "def ggt_0(a,b): \n",
    "  \n",
    "    if (a == b): \n",
    "        return a \n",
    "    if (a > b): \n",
    "        return ggt_0(a-b, b) \n",
    "    return ggt_0(a, b-a) \n",
    "\n",
    "print (\"\\nBerechnung ggt\")\n",
    "n = int (input (\"Bitte n: \"))\n",
    "e = int (input (\"Bitte e: \")) \n",
    "start = timeit.default_timer()\n",
    "print (\"\\nBerechnung0 von ggt von {} und {} ist die {} \".format(n,e,ggt_0(n,e)))\n",
    "print (\"Die Berechnung des ggt() dauerte :\", timeit.default_timer()-start)"
   ]
  },
  {
   "cell_type": "markdown",
   "metadata": {},
   "source": [
    "## Aufgabe 3\n",
    "### Entwickeln Sie aus der ständigen Wiederholung der Subtraktion eine modernere Variante. Benutzen Sie dazu die Division mit Rest. Setzen Sie dazu den modernen Euklidischen Algorithmus um.\n",
    "* Division mit Rest\n",
    "* Zahlen in jedem Schritt halbieren sich\n",
    "* es wird die größere durch die kleinere Zahl dividiert \n",
    "* und jeweils anschließend die kleinere Zahl durch den entstandenen Rest bis kein Rest mehr übrig bleibt \n",
    "* bleibt der Rest 1 übrig  sind die beiden Zahlen teilerfremd.\n",
    "#### Folgender Pseudo-Code ist gegeben: \n",
    "\n",
    "## $$def~ggt\\_1(n, e):~while~ e!= 0:~c = n~mod~e;~n = e;~e = c~;return~n$$\n",
    "### Entwickeln Sie daraus eine einfache Schleifenabarbeitung! Erweitern Sie dann die Code-Zeilen so, dass eine Laufzeitmessung möglich ist!"
   ]
  },
  {
   "cell_type": "code",
   "execution_count": 14,
   "metadata": {},
   "outputs": [
    {
     "name": "stdout",
     "output_type": "stream",
     "text": [
      "\n",
      "Berechnung ggt\n",
      "Bitte n: 999\n",
      "Bitte e: 234\n",
      "\n",
      "Berechnung1 ggt von 999 und 234 ist die 9\n",
      "Die Berechnung des ggt() dauerte : 0.00047979999999370193\n"
     ]
    }
   ],
   "source": [
    "# Ihr Code\n",
    "def ggt_1(a,b):\n",
    "    while b!=0:\n",
    "        c=a%b\n",
    "        a=b\n",
    "        b=c\n",
    "    return a\n",
    "\n",
    "print (\"\\nBerechnung ggt\")\n",
    "n = int (input (\"Bitte n: \"))\n",
    "e = int (input (\"Bitte e: \")) \n",
    "start = timeit.default_timer()\n",
    "print (\"\\nBerechnung1 ggt von {} und {} ist die {}\".format(n,e,ggt_1(n,e)))\n",
    "print (\"Die Berechnung des ggt() dauerte :\", timeit.default_timer()-start)"
   ]
  },
  {
   "cell_type": "markdown",
   "metadata": {},
   "source": [
    "### Eine etwas zusammengefasste Schreibweise."
   ]
  },
  {
   "cell_type": "code",
   "execution_count": 24,
   "metadata": {},
   "outputs": [
    {
     "name": "stdout",
     "output_type": "stream",
     "text": [
      "\n",
      "Berechnung ggt\n",
      "Bitte n: 999\n",
      "Bitte e: 234\n",
      "\n",
      "Berechnung1 ggt von 999 und 234 ist die 9 der Prozess dauerte : 0.00022009999975125538 s ! \n"
     ]
    }
   ],
   "source": [
    "import timeit\n",
    "\n",
    "def ggt(n, e):\n",
    "    while e!=0:\n",
    "        n, e = e, n % e\n",
    "    return n\n",
    "\n",
    "print (\"\\nBerechnung ggt\")\n",
    "n = int (input (\"Bitte n: \"))\n",
    "e = int (input (\"Bitte e: \")) \n",
    "start = timeit.default_timer()\n",
    "print (\"\\nBerechnung1 ggt von {} und {} ist die {} der Prozess dauerte : {} s ! \".format(n,e,ggt(n,e),timeit.default_timer()-start))"
   ]
  },
  {
   "cell_type": "markdown",
   "metadata": {},
   "source": [
    "### Das nachfolgende Script zeigt weitere Abarbeitungen zur Bestimmung der ggt(), die auch den einfachen Aufruf aus einer zusätzlichen Bibliothek macht. ! Vergleichen Sie die Laufzeiten aller Scripte."
   ]
  },
  {
   "cell_type": "code",
   "execution_count": 20,
   "metadata": {},
   "outputs": [
    {
     "name": "stdout",
     "output_type": "stream",
     "text": [
      "\n",
      "Berechnung ggt\n",
      "Bitte n: 999\n",
      "Bitte e: 234\n",
      "\n",
      "Berechnung2 von ggt von 999 und 234 ist die 9 und einer Laufzeit von: 0.00020770000014636025\n",
      "\n",
      "Berechnung3 von ggt von 999 und 234 ist die 9 und einer Laufzeit von: 0.00016699999991942605\n"
     ]
    }
   ],
   "source": [
    "import math\n",
    "import sys\n",
    "import timeit\n",
    "\n",
    "def ggt_2(n,e):                       \n",
    "    \n",
    "    if(e==0): \n",
    "        return n \n",
    "    else: \n",
    "        return ggt_2(e,n % e) \n",
    "    \n",
    "    \n",
    "print (\"\\nBerechnung ggt\")\n",
    "n = int (input (\"Bitte n: \"))\n",
    "e = int (input (\"Bitte e: \")) \n",
    "start = timeit.default_timer()\n",
    "print (\"\\nBerechnung2 von ggt von {} und {} ist die {} und einer Laufzeit von: {}\".format(n,e,ggt_2(n,e),timeit.default_timer()-start))\n",
    "start = timeit.default_timer()\n",
    "print (\"\\nBerechnung3 von ggt von {} und {} ist die {} und einer Laufzeit von: {}\".format(n,e, math.gcd(n,e),timeit.default_timer()-start))"
   ]
  },
  {
   "cell_type": "code",
   "execution_count": null,
   "metadata": {},
   "outputs": [],
   "source": []
  }
 ],
 "metadata": {
  "kernelspec": {
   "display_name": "Python 3",
   "language": "python",
   "name": "python3"
  },
  "language_info": {
   "codemirror_mode": {
    "name": "ipython",
    "version": 3
   },
   "file_extension": ".py",
   "mimetype": "text/x-python",
   "name": "python",
   "nbconvert_exporter": "python",
   "pygments_lexer": "ipython3",
   "version": "3.8.8"
  }
 },
 "nbformat": 4,
 "nbformat_minor": 2
}
