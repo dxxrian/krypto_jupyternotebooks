{
 "cells": [
  {
   "cell_type": "markdown",
   "metadata": {},
   "source": [
    "#### ![Kopf-1](images/Kopf-1.png)"
   ]
  },
  {
   "cell_type": "markdown",
   "metadata": {},
   "source": [
    "# Lab: RSA-1\n",
    "![Pyth](images/Pyth-Wire.png)\n"
   ]
  },
  {
   "cell_type": "markdown",
   "metadata": {},
   "source": [
    "## In diesem Notebook stellen wir Ihnen die programmtechnische Umsetzung von RSA in Python vor."
   ]
  },
  {
   "cell_type": "markdown",
   "metadata": {},
   "source": [
    "## Voraussetzungen\n",
    "* ### Python-Scriptvorschlaege\n",
    "* ### Python (AnacondaFramework, Jupyter-Notebook)\n",
    "\n",
    "### Bitte arbeiten Sie alle Codezellen entsprechend einzeln ab! Benutzen Sie das \"Run\" (oben)! "
   ]
  },
  {
   "cell_type": "markdown",
   "metadata": {},
   "source": [
    "### Aus den Vorlesungen bzw. Übungen kennen Sie die grundlegende Arbeitsweise von von RSA, welche hier kurz noch einmal dargestellt wird. Generell wird die RSA-Verschlüsselung für folgende Anwendungen verwendet. "
   ]
  },
  {
   "cell_type": "markdown",
   "metadata": {},
   "source": [
    "![RSA-1](images/RSA-1.png)"
   ]
  },
  {
   "cell_type": "markdown",
   "metadata": {},
   "source": [
    "###  RSA Verschlüsselung\n",
    "### Schritt 1: Schlüsselgenerierung (Public und Privat)!\n",
    "#### Produktbildung aus zwei großen Primzahlen p und q, das Ergebnis ist unser Modul n\n",
    "### $$\\mathbf{\\color{red}{ n~=~p~x~p}}$$\n",
    "### Schritt 2: Berechnung der Eulerschen Phi-Funktion!\n",
    "### $$\\mathbf{\\color{red}{ \\Phi(n)~=~(p-1)~\\times~(q-1) }}$$\n",
    "### Schritt 3: Bestimmung einer public-Keykomponente e, wobei gilt: $\\mathbf{\\color{red}{1~<~e~\\Phi~(n)~und~ggt~(e,~\\Phi(n)~=1}}~$\n",
    "### Schritt 4: Berechnung der privaten Key-Komponente d als multiplikativ inverses Element von e, dabei gilt:\n",
    "### $$\\mathbf{\\color{red}{d~\\odot~e~=~1 ~mod~\\Phi~(n)}}$$\n",
    "### Schritt 5: Anwendung der Keys auf Ver- und Entschlüsselung, dazu gelten folgende mathematischen Zusammenhänge für y als verschlüsselte und x als Klartextinformation. \n",
    "## $$\\mathbf{\\color{red}{ ~y~=~e_{K_{pub}}(x)~=~x^{e}~mod~n~~~und~~~ x~=~d_{K_{pr}}(y)~=~y^{d}~mod~n }}$$\n",
    "\n"
   ]
  },
  {
   "cell_type": "markdown",
   "metadata": {},
   "source": [
    "## Arbeitsschritte\n",
    "### 1. Setzen Sie die die folgende Funktionen in Python-Code um:\n",
    "* rsa_encrypt\n",
    "* rsa_decrypt\n",
    "* rsa_key ( Es erfolgt keine automatischer Primzahltest, wählen Sie aus gegebener Tabelle)\n",
    "* Verschlüsselung / Entschlüsselung einer einfachen Ziffer\n",
    "* Verschlüsselung / Entschlüsselung eines kurzen Textes\n",
    "* Auswahlfunktion (\"Menü\") ist schon gegeben!\n",
    "### Modifiziern Sie dazu die gegebenen Scriptfragmente!\n",
    "### Alle definierten Funktionen müssen einzeln (Zellen) gestartet werden!\n"
   ]
  },
  {
   "cell_type": "markdown",
   "metadata": {},
   "source": [
    "![Prime](images/short_prime.png)"
   ]
  },
  {
   "cell_type": "markdown",
   "metadata": {},
   "source": [
    "### $$ ~~Primezahlen~~ bis~~ 1000~~ $$"
   ]
  },
  {
   "cell_type": "code",
   "execution_count": 1,
   "metadata": {},
   "outputs": [],
   "source": [
    "# Notwendeige Importfunktionen für unser Beispiel!\n",
    "import math\n",
    "import sys"
   ]
  },
  {
   "cell_type": "markdown",
   "metadata": {},
   "source": [
    "#### Verschlüsselungsfunktion"
   ]
  },
  {
   "cell_type": "code",
   "execution_count": 2,
   "metadata": {},
   "outputs": [],
   "source": [
    "def rsa_encrypt(n,z,x):                         #RSA Verschlüsselung, z als Key-Komponente (public oder private)\n",
    "    y=x**z%n\n",
    "    return y"
   ]
  },
  {
   "cell_type": "markdown",
   "metadata": {},
   "source": [
    "#### Entschlüsselungsfunktion"
   ]
  },
  {
   "cell_type": "code",
   "execution_count": 3,
   "metadata": {},
   "outputs": [],
   "source": [
    "def rsa_decrypt ( n , d , y ) :                 #RSA Entschlüsselung\n",
    "    x = y**d%n\n",
    "    return x"
   ]
  },
  {
   "cell_type": "markdown",
   "metadata": {},
   "source": [
    "#### Key-Generierung"
   ]
  },
  {
   "cell_type": "code",
   "execution_count": 4,
   "metadata": {},
   "outputs": [],
   "source": [
    "def rsa_key ( p , q, e ) :                         #RSA Key-Generierung\n",
    "    n= p * q\n",
    "    phi_n = (p-1)*(q-1)\n",
    "          \n",
    "    while math.gcd (e,phi_n) > 1:\n",
    "        e = e+1\n",
    "          \n",
    "    d = 0\n",
    "    h = 2\n",
    "    while h !=1 :\n",
    "        d = d + 1\n",
    "        h = e * d % phi_n\n",
    "           \n",
    "    return (n,e,d,phi_n)"
   ]
  },
  {
   "cell_type": "markdown",
   "metadata": {},
   "source": [
    "#### Verschlüsseln einer Ziffer"
   ]
  },
  {
   "cell_type": "code",
   "execution_count": 5,
   "metadata": {},
   "outputs": [],
   "source": [
    "def verschlüsseln() :  \n",
    "    \n",
    "    ### keys ist eine globale Variable\n",
    "    \n",
    "    print (\"\\n######### Verschlüsselung Ziffer #########\\n\")\n",
    "           \n",
    "    klar=int(input(\"!! Ziffer muss < als das Modul sein!!: \"))\n",
    "    if klar < keys[0]:\n",
    "        z = int(input (\"1 für öffentl.: 2 private :\"))\n",
    "        x= rsa_encrypt(keys[0],keys[z],klar)\n",
    "        print (\"\\nDeine geheime Ziffer : \\n\", x)\n",
    "        return()\n",
    "    else:\n",
    "        verschlüsseln()"
   ]
  },
  {
   "cell_type": "markdown",
   "metadata": {},
   "source": [
    "#### Entschlüsseln einer Ziffer"
   ]
  },
  {
   "cell_type": "code",
   "execution_count": 6,
   "metadata": {},
   "outputs": [],
   "source": [
    "def entschlüsseln() :\n",
    "    \n",
    "    print (\"\\n####### Decrypt Ziffern  #########\")\n",
    "           \n",
    "    z = int(input (\"1 für öffentl.: 2 private :\"))\n",
    "    y = int(input(\"Geheim-dezimal: \"))\n",
    "    print (\"\\nDecrypt:\", rsa_decrypt (keys[0],keys[z],y),\"\\n\")\n",
    "    return()"
   ]
  },
  {
   "cell_type": "markdown",
   "metadata": {},
   "source": [
    "### 2. Modifizierung der Verschlüsselungsmöglichkeiten auf einen Text bzw. Textdatei! Dazu sollten Sie die Funktion \"verschlüsseln\" entsprechend modifizieren bzw. eine neue Funktion erstellen, welche auch in die Auswahl entsprechend intergriert werden sollte! Für die Kodierung von ASCII-Zeichen werden folgende Pythonfunktionen verwendet:"
   ]
  },
  {
   "cell_type": "markdown",
   "metadata": {},
   "source": [
    "## $$ord~(x)~~ und~chr~(x) $$"
   ]
  },
  {
   "cell_type": "markdown",
   "metadata": {},
   "source": [
    "### Wenn eine Zeichenkette ein Unicode-Zeichen darstellt, wird eine ganze Zahl zurückgegeben, die den Unicode dieses Zeichens darstellt. So gibt beispielsweise ord('a') die ganze Zahl 97 und ord('€') (Eurozeichen) 8364 zurück. Dies ist das Gegenteil von chr().\n"
   ]
  },
  {
   "cell_type": "markdown",
   "metadata": {},
   "source": [
    "### Folgendes Script-Fragment für die ASCII-Verschlüsselung können Sie entsprechend modifizieren, verschlüsseln Sie jedes Zeichen einzeln! "
   ]
  },
  {
   "cell_type": "code",
   "execution_count": 7,
   "metadata": {},
   "outputs": [],
   "source": [
    "#Verschlüsselung ASCII zeichenweise\n",
    "\n",
    "def ascii_encrypt():\n",
    "    klar=input(\"Klartexteingabe bitte: \")\n",
    "#\n",
    "    txt_geheim = \"\"\n",
    "    z = int(input (\"Encrypt-Key: 1 für öffentl.: 2 private :\"))\n",
    "    for x in klar:\n",
    "        x=ord(x)\n",
    "        x= rsa_encrypt(keys[0],keys[z],x)\n",
    "        x=chr(x)\n",
    "        txt_geheim +=x \n",
    "        \n",
    "    return print(\"\\nDein Geheimtext in ASCII : \", txt_geheim)"
   ]
  },
  {
   "cell_type": "markdown",
   "metadata": {},
   "source": [
    "### Folgendes Script-Fragment für die ASCII-Entschlüsselung können Sie entsprechend modifizieren!"
   ]
  },
  {
   "cell_type": "code",
   "execution_count": 11,
   "metadata": {},
   "outputs": [],
   "source": [
    "def ascii_decrypt():\n",
    "    geheim = input(\"Geheimtext bitte: \")\n",
    "#\n",
    "    txt_klar= \"\"\n",
    "    z = int(input (\"Decrypt-Key: 1 für öffentl.: 2 private :\"))\n",
    "    \n",
    "    for x in geheim:\n",
    "        x=ord(x)\n",
    "        x= rsa_decrypt(keys[0],keys[z],x)\n",
    "        x=chr(x)\n",
    "        txt_klar +=x \n",
    "        \n",
    "    return print(\"\\nDein Klartext in ASCII : \", txt_klar)"
   ]
  },
  {
   "cell_type": "markdown",
   "metadata": {},
   "source": [
    "### Auswahlfunktion und Keyparametereingabe"
   ]
  },
  {
   "cell_type": "code",
   "execution_count": null,
   "metadata": {},
   "outputs": [
    {
     "name": "stdout",
     "output_type": "stream",
     "text": [
      "Stop 0 \n",
      "Keybilden 1 \n",
      "Int_Verschlüsseln 2 \n",
      "Int_Entschlüssel 3 \n",
      "ASCII-encrypt 4 \n",
      "ASCII-decrypt 5 \n",
      "Auswahl 6 :\n",
      "1\n",
      "Bitte Primzahlen eingeben p = 13\n",
      "Bitte Primzahlen eingeben q = 17\n",
      "Bitte öffentliches e bzw. Startpunkt e = 997\n",
      "\n",
      "Die Keys lauten n, e, d, phi_n  (221, 997, 109, 192)\n",
      "Stop 0 \n",
      "Keybilden 1 \n",
      "Int_Verschlüsseln 2 \n",
      "Int_Entschlüssel 3 \n",
      "ASCII-encrypt 4 \n",
      "ASCII-decrypt 5 \n",
      "Auswahl 6 :\n",
      "4\n",
      "Klartexteingabe bitte: HalloTonisMum\n",
      "Encrypt-Key: 1 für öffentl.: 2 private :1\n",
      "\n",
      "Dein Geheimtext in ASCII :  HG  ;T;¢Ñs\u0019h`\n",
      "Stop 0 \n",
      "Keybilden 1 \n",
      "Int_Verschlüsseln 2 \n",
      "Int_Entschlüssel 3 \n",
      "ASCII-encrypt 4 \n",
      "ASCII-decrypt 5 \n",
      "Auswahl 6 :\n",
      "5\n",
      "Geheimtext bitte: HG  ;T;¢Ñs\u0019h`\n",
      "Decrypt-Key: 1 für öffentl.: 2 private :2\n",
      "\n",
      "Dein Klartext in ASCII :  Ha\u0013\u0013oTonisMum\n",
      "Stop 0 \n",
      "Keybilden 1 \n",
      "Int_Verschlüsseln 2 \n",
      "Int_Entschlüssel 3 \n",
      "ASCII-encrypt 4 \n",
      "ASCII-decrypt 5 \n",
      "Auswahl 6 :\n",
      "5\n",
      "Geheimtext bitte:   HG  ;T;¢Ñs\u0019h`\n",
      "Decrypt-Key: 1 für öffentl.: 2 private :2\n",
      "\n",
      "Dein Klartext in ASCII :  \u0013\u0013Ha\u0013\u0013oTonisMum\n"
     ]
    }
   ],
   "source": [
    "def keybilden():\n",
    "    global keys\n",
    "    p = int (input (\"Bitte Primzahlen eingeben p = \"))\n",
    "    #Primzahltest sollte folgen \n",
    "    q = int (input (\"Bitte Primzahlen eingeben q = \"))\n",
    "    #Primzahltest sollte folgen \n",
    "    e = int (input (\"Bitte öffentliches e bzw. Startpunkt e = \"))\n",
    "    \n",
    "    keys = rsa_key (p,q,e)\n",
    "    print (\"\\nDie Keys lauten n, e, d, phi_n \" , keys )\n",
    "    return()\n",
    "\n",
    "def auswahl_fkt ():\n",
    "    \n",
    "    auswahl = int (input (\"Stop 0 \\nKeybilden 1 \\nInt_Verschlüsseln 2 \\nInt_Entschlüssel 3 \\nASCII-encrypt 4 \\nASCII-decrypt 5 \\nAuswahl 6 :\\n\"))\n",
    "    \n",
    "    if auswahl == 1:\n",
    "        keybilden()\n",
    "    else:\n",
    "        if auswahl == 2:\n",
    "            verschlüsseln()\n",
    "        else:\n",
    "            if auswahl == 3:\n",
    "                entschlüsseln()\n",
    "            else:\n",
    "                if auswahl == 4:\n",
    "                    ascii_encrypt()\n",
    "                else:\n",
    "                    if auswahl == 5:\n",
    "                        ascii_decrypt()\n",
    "                    else:\n",
    "                        if auswahl == 6:\n",
    "                            auswahl_fkt()\n",
    "                        else:                        \n",
    "                            sys.exit(0)\n",
    "while True:\n",
    "    auswahl_fkt() "
   ]
  },
  {
   "cell_type": "code",
   "execution_count": null,
   "metadata": {},
   "outputs": [],
   "source": []
  },
  {
   "cell_type": "code",
   "execution_count": null,
   "metadata": {},
   "outputs": [],
   "source": []
  },
  {
   "cell_type": "code",
   "execution_count": null,
   "metadata": {},
   "outputs": [],
   "source": []
  }
 ],
 "metadata": {
  "kernelspec": {
   "display_name": "Python 3",
   "language": "python",
   "name": "python3"
  },
  "language_info": {
   "codemirror_mode": {
    "name": "ipython",
    "version": 3
   },
   "file_extension": ".py",
   "mimetype": "text/x-python",
   "name": "python",
   "nbconvert_exporter": "python",
   "pygments_lexer": "ipython3",
   "version": "3.8.8"
  }
 },
 "nbformat": 4,
 "nbformat_minor": 2
}
